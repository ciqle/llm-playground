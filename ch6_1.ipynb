{
 "cells": [
  {
   "cell_type": "code",
   "execution_count": 1,
   "metadata": {},
   "outputs": [],
   "source": [
    "import ast\n",
    "import os\n",
    "\n",
    "from typing import Annotated, TypedDict\n",
    "\n",
    "from langchain_community.tools import DuckDuckGoSearchRun\n",
    "from langchain_core.tools import tool\n",
    "from langchain_ollama import ChatOllama\n",
    "\n",
    "from langgraph.graph import START, StateGraph\n",
    "from langgraph.graph.message import add_messages\n",
    "from langgraph.prebuilt import ToolNode, tools_condition\n"
   ]
  },
  {
   "cell_type": "code",
   "execution_count": 2,
   "metadata": {},
   "outputs": [],
   "source": [
    "@tool\n",
    "def calculator(query: str) -> str:\n",
    "    \"\"\"A simple calculator tool. Input should be a mathematical expression.\"\"\"\n",
    "    return ast.literal_eval(query)"
   ]
  },
  {
   "cell_type": "code",
   "execution_count": 3,
   "metadata": {},
   "outputs": [],
   "source": [
    "os.environ[\"HTTP_PROXY\"] = \"http://localhost:10086\"\n",
    "os.environ[\"HTTPS_PROXY\"] = \"http://localhost:10086\"\n",
    "\n",
    "search = DuckDuckGoSearchRun()"
   ]
  },
  {
   "cell_type": "code",
   "execution_count": 4,
   "metadata": {},
   "outputs": [],
   "source": [
    "tools = [search, calculator]"
   ]
  },
  {
   "cell_type": "code",
   "execution_count": 5,
   "metadata": {},
   "outputs": [],
   "source": [
    "model = ChatOllama(\n",
    "    base_url=\"http://localhost:11434\", model=\"qwen2.5:32b\", temperature=0.1\n",
    ").bind_tools(tools)"
   ]
  },
  {
   "cell_type": "code",
   "execution_count": 6,
   "metadata": {},
   "outputs": [],
   "source": [
    "class State(TypedDict):\n",
    "    messages: Annotated[list, add_messages]"
   ]
  },
  {
   "cell_type": "code",
   "execution_count": 7,
   "metadata": {},
   "outputs": [],
   "source": [
    "def model_node(state: State) -> State:\n",
    "    res = model.invoke(state[\"messages\"])\n",
    "    return {\"messages\": res}"
   ]
  },
  {
   "cell_type": "code",
   "execution_count": 8,
   "metadata": {},
   "outputs": [],
   "source": [
    "builder = StateGraph(State)\n",
    "builder.add_node(\"model\", model_node)\n",
    "builder.add_node(\"tools\", ToolNode(tools))\n",
    "builder.add_edge(START, \"model\")\n",
    "builder.add_conditional_edges(\"model\", tools_condition)\n",
    "builder.add_edge(\"tools\", \"model\")\n",
    "\n",
    "graph = builder.compile()"
   ]
  },
  {
   "cell_type": "code",
   "execution_count": 9,
   "metadata": {},
   "outputs": [
    {
     "data": {
      "image/png": "[encoded data removed]",
      "text/plain": [
       "<langgraph.graph.state.CompiledStateGraph object at 0x122e6dc70>"
      ]
     },
     "execution_count": 9,
     "metadata": {},
     "output_type": "execute_result"
    }
   ],
   "source": [
    "graph"
   ]
  },
  {
   "cell_type": "code",
   "execution_count": 10,
   "metadata": {},
   "outputs": [
    {
     "name": "stdout",
     "output_type": "stream",
     "text": [
      "{'model': {'messages': AIMessage(content='', additional_kwargs={}, response_metadata={'model': 'qwen2.5:32b', 'created_at': '2025-03-08T14:21:26.739782Z', 'done': True, 'done_reason': 'stop', 'total_duration': 2293055417, 'load_duration': 29924125, 'prompt_eval_count': 249, 'prompt_eval_duration': 498000000, 'eval_count': 36, 'eval_duration': 1761000000, 'message': Message(role='assistant', content='', images=None, tool_calls=None)}, id='run-48284837-7e69-4586-bb16-804c8d811e2e-0', tool_calls=[{'name': 'duckduckgo_search', 'args': {'query': 'age of the 30th president of the United States when he died'}, 'id': '6ea93ad4-1c9a-4410-97fe-8885892c7b83', 'type': 'tool_call'}], usage_metadata={'input_tokens': 249, 'output_tokens': 36, 'total_tokens': 285})}}\n",
      "{'tools': {'messages': [ToolMessage(content=\"John Calvin Coolidge Jr. [1] (/ ˈ k uː l ɪ dʒ / KOOL-ij; July 4, 1872 - January 5, 1933) was the 30th president of the United States, serving from 1923 to 1929.A Republican lawyer from Massachusetts, he previously served as the 29th vice president from 1921 to 1923 under President Warren G. Harding, and as the 48th governor of Massachusetts from 1919 to 1921. Calvin Coolidge was the 30th president of the United States (1923-29). Coolidge acceded to the presidency after the death in office of Warren G. Harding, just as the Harding scandals were coming to light. He restored integrity to the executive branch while continuing Harding's conservative pro-business policies. John Calvin Coolidge Jr. was the 30th President of the United States (1923-29). A Republican lawyer from Vermont, Coolidge worked his way up the ladder of Massachusetts state politics, eventually becoming governor of that state. ... Coolidge's retirement was relatively short, as he died at the age of 60 in January 1933, less than two months ... The White House, official residence of the president of the United States, in July 2008. The president of the United States is the head of state and head of government of the United States, [1] indirectly elected to a four-year term via the Electoral College. [2] Under the U.S. Constitution, the officeholder leads the executive branch of the federal government and is the commander-in-chief of ... Age of U.S. presidents when assuming office. Article Two of the United States Constitution provides that U.S. presidents must be at least 35 years old at the time they take office. The median age at inauguration of incoming U.S. presidents is 55 years. [1] [2] The youngest person to become U.S. president was Theodore Roosevelt at age 42, who succeeded to the office after the assassination of ...\", name='duckduckgo_search', id='a14a2ab3-8ae1-4e0c-b532-acba495550d2', tool_call_id='6ea93ad4-1c9a-4410-97fe-8885892c7b83')]}}\n",
      "{'model': {'messages': AIMessage(content='The 30th President of the United States, Calvin Coolidge, died at the age of 60.', additional_kwargs={}, response_metadata={'model': 'qwen2.5:32b', 'created_at': '2025-03-08T14:21:32.628988Z', 'done': True, 'done_reason': 'stop', 'total_duration': 4528560459, 'load_duration': 71451709, 'prompt_eval_count': 758, 'prompt_eval_duration': 3169000000, 'eval_count': 25, 'eval_duration': 1273000000, 'message': Message(role='assistant', content='The 30th President of the United States, Calvin Coolidge, died at the age of 60.', images=None, tool_calls=None)}, id='run-8ca49246-25ed-45be-8eea-ffa1a4d84cb3-0', usage_metadata={'input_tokens': 758, 'output_tokens': 25, 'total_tokens': 783})}}\n"
     ]
    }
   ],
   "source": [
    "from langchain_core.messages import HumanMessage, SystemMessage\n",
    "\n",
    "input = {\n",
    "    \"messages\": [\n",
    "        HumanMessage(\"\"\"How old was the 30th president of the United States when he died?\"\"\")\n",
    "    ]\n",
    "}\n",
    "for c in graph.stream(input):\n",
    "    print(c)"
   ]
  },
  {
   "cell_type": "code",
   "execution_count": null,
   "metadata": {},
   "outputs": [],
   "source": [
    "{\n",
    "    \"model\": {\n",
    "        \"messages\": AIMessage(\n",
    "            content=\"\",\n",
    "            additional_kwargs={},\n",
    "            response_metadata={\n",
    "                \"model\": \"qwen2.5:32b\",\n",
    "                \"created_at\": \"2025-03-08T14:21:26.739782Z\",\n",
    "                \"done\": True,\n",
    "                \"done_reason\": \"stop\",\n",
    "                \"total_duration\": 2293055417,\n",
    "                \"load_duration\": 29924125,\n",
    "                \"prompt_eval_count\": 249,\n",
    "                \"prompt_eval_duration\": 498000000,\n",
    "                \"eval_count\": 36,\n",
    "                \"eval_duration\": 1761000000,\n",
    "                \"message\": Message(\n",
    "                    role=\"assistant\", content=\"\", images=None, tool_calls=None\n",
    "                ),\n",
    "            },\n",
    "            id=\"run-48284837-7e69-4586-bb16-804c8d811e2e-0\",\n",
    "            tool_calls=[\n",
    "                {\n",
    "                    \"name\": \"duckduckgo_search\",\n",
    "                    \"args\": {\n",
    "                        \"query\": \"age of the 30th president of the United States when he died\"\n",
    "                    },\n",
    "                    \"id\": \"6ea93ad4-1c9a-4410-97fe-8885892c7b83\",\n",
    "                    \"type\": \"tool_call\",\n",
    "                }\n",
    "            ],\n",
    "            usage_metadata={\n",
    "                \"input_tokens\": 249,\n",
    "                \"output_tokens\": 36,\n",
    "                \"total_tokens\": 285,\n",
    "            },\n",
    "        )\n",
    "    }\n",
    "}\n",
    "{\n",
    "    \"tools\": {\n",
    "        \"messages\": [\n",
    "            ToolMessage(\n",
    "                content=\"John Calvin Coolidge Jr. [1] (/ ˈ k uː l ɪ dʒ / KOOL-ij; July 4, 1872 - January 5, 1933) was the 30th president of the United States, serving from 1923 to 1929.A Republican lawyer from Massachusetts, he previously served as the 29th vice president from 1921 to 1923 under President Warren G. Harding, and as the 48th governor of Massachusetts from 1919 to 1921. Calvin Coolidge was the 30th president of the United States (1923-29). Coolidge acceded to the presidency after the death in office of Warren G. Harding, just as the Harding scandals were coming to light. He restored integrity to the executive branch while continuing Harding's conservative pro-business policies. John Calvin Coolidge Jr. was the 30th President of the United States (1923-29). A Republican lawyer from Vermont, Coolidge worked his way up the ladder of Massachusetts state politics, eventually becoming governor of that state. ... Coolidge's retirement was relatively short, as he died at the age of 60 in January 1933, less than two months ... The White House, official residence of the president of the United States, in July 2008. The president of the United States is the head of state and head of government of the United States, [1] indirectly elected to a four-year term via the Electoral College. [2] Under the U.S. Constitution, the officeholder leads the executive branch of the federal government and is the commander-in-chief of ... Age of U.S. presidents when assuming office. Article Two of the United States Constitution provides that U.S. presidents must be at least 35 years old at the time they take office. The median age at inauguration of incoming U.S. presidents is 55 years. [1] [2] The youngest person to become U.S. president was Theodore Roosevelt at age 42, who succeeded to the office after the assassination of ...\",\n",
    "                name=\"duckduckgo_search\",\n",
    "                id=\"a14a2ab3-8ae1-4e0c-b532-acba495550d2\",\n",
    "                tool_call_id=\"6ea93ad4-1c9a-4410-97fe-8885892c7b83\",\n",
    "            )\n",
    "        ]\n",
    "    }\n",
    "}\n",
    "{\n",
    "    \"model\": {\n",
    "        \"messages\": AIMessage(\n",
    "            content=\"The 30th President of the United States, Calvin Coolidge, died at the age of 60.\",\n",
    "            additional_kwargs={},\n",
    "            response_metadata={\n",
    "                \"model\": \"qwen2.5:32b\",\n",
    "                \"created_at\": \"2025-03-08T14:21:32.628988Z\",\n",
    "                \"done\": True,\n",
    "                \"done_reason\": \"stop\",\n",
    "                \"total_duration\": 4528560459,\n",
    "                \"load_duration\": 71451709,\n",
    "                \"prompt_eval_count\": 758,\n",
    "                \"prompt_eval_duration\": 3169000000,\n",
    "                \"eval_count\": 25,\n",
    "                \"eval_duration\": 1273000000,\n",
    "                \"message\": Message(\n",
    "                    role=\"assistant\",\n",
    "                    content=\"The 30th President of the United States, Calvin Coolidge, died at the age of 60.\",\n",
    "                    images=None,\n",
    "                    tool_calls=None,\n",
    "                ),\n",
    "            },\n",
    "            id=\"run-8ca49246-25ed-45be-8eea-ffa1a4d84cb3-0\",\n",
    "            usage_metadata={\n",
    "                \"input_tokens\": 758,\n",
    "                \"output_tokens\": 25,\n",
    "                \"total_tokens\": 783,\n",
    "            },\n",
    "        )\n",
    "    }\n",
    "}"
   ]
  }
 ],
 "metadata": {
  "kernelspec": {
   "display_name": "llm",
   "language": "python",
   "name": "python3"
  },
  "language_info": {
   "codemirror_mode": {
    "name": "ipython",
    "version": 3
   },
   "file_extension": ".py",
   "mimetype": "text/x-python",
   "name": "python",
   "nbconvert_exporter": "python",
   "pygments_lexer": "ipython3",
   "version": "3.12.9"
  }
 },
 "nbformat": 4,
 "nbformat_minor": 2
}
