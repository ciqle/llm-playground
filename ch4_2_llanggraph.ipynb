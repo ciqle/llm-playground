{
 "cells": [
  {
   "cell_type": "code",
   "execution_count": 1,
   "metadata": {},
   "outputs": [],
   "source": [
    "from typing import Annotated, TypedDict\n",
    "\n",
    "from langgraph.graph import StateGraph, START, END\n",
    "from langgraph.graph.message import add_messages"
   ]
  },
  {
   "cell_type": "code",
   "execution_count": 3,
   "metadata": {},
   "outputs": [],
   "source": [
    "class State(TypedDict):\n",
    "    # Messages have the type \"list\". The `add_messages` \n",
    "    # function in the annotation defines how this state should \n",
    "    # be updated (in this case, it appends new messages to the \n",
    "    # list, rather than replacing the previous messages)\n",
    "\tmessages: Annotated[list, add_messages]\n",
    "\n",
    "builder = StateGraph(State)"
   ]
  },
  {
   "cell_type": "code",
   "execution_count": 4,
   "metadata": {},
   "outputs": [
    {
     "data": {
      "text/plain": [
       "<langgraph.graph.state.StateGraph at 0x1147c6ab0>"
      ]
     },
     "execution_count": 4,
     "metadata": {},
     "output_type": "execute_result"
    }
   ],
   "source": [
    "from langchain_ollama import ChatOllama\n",
    "\n",
    "model = ChatOllama(\n",
    "    base_url=\"http://localhost:11434\", model=\"qwen2.5:32b\", temperature=0\n",
    ")\n",
    "\n",
    "def chatbot(state: State):\n",
    "    answer = model.invoke(state[\"messages\"])\n",
    "    return {\"messages\": [answer]}\n",
    "\n",
    "# The first argument is the unique node name 形参1：节点名称\n",
    "# The second argument is the function or Runnable to run 形参2:需要跑的函数或Runnable\n",
    "builder.add_node(\"chatbot\", chatbot)"
   ]
  },
  {
   "cell_type": "code",
   "execution_count": 5,
   "metadata": {},
   "outputs": [],
   "source": [
    "builder.add_edge(START, 'chatbot')\n",
    "builder.add_edge('chatbot', END)\n",
    "\n",
    "graph = builder.compile()"
   ]
  },
  {
   "cell_type": "code",
   "execution_count": 6,
   "metadata": {},
   "outputs": [
    {
     "data": {
      "image/png": "[encoded data removed]",
      "text/plain": [
       "<langgraph.graph.state.CompiledStateGraph object at 0x1147618e0>"
      ]
     },
     "execution_count": 6,
     "metadata": {},
     "output_type": "execute_result"
    }
   ],
   "source": [
    "graph"
   ]
  },
  {
   "cell_type": "code",
   "execution_count": 7,
   "metadata": {},
   "outputs": [
    {
     "data": {
      "text/plain": [
       "b'\\x89PNG\\r\\n\\x1a\\n\\x00\\x00\\x00\\rIHDR\\x00\\x00\\x00k\\x00\\x00\\x00\\xea\\x08\\x02\\x00\\x00\\x00*1,&\\x00\\x00\\x00\\x01sRGB\\x00\\xae\\xce\\x1c\\xe9\\x00\\x00\\x16\\xdfIDATx\\x9c\\xed\\x9d{`\\x13U\\xba\\xc0O2I\\x9aw\\x9a&m\\xfa~S\\xfa\\xa4 \\x05\\x01\\x0b-\\xb6<--\\xb5\\n\\x02e\\x01\\x95\\x95\\xa5\\xcb\\xee\\xbd\\xb8+\\xbb+.\\xb8^\\xb9\\xdc\\x8a.\\xf7\\xae\\xab\\xec]\\x8a\\xaePEX\\x05\\xac\"\\x05\\x85\"o\\xa8<l\\xe9\\x8b\\xbe\\xe9\\x83\\xb6y\\xbf_\\x93\\xdc?\\xc2\\xad,M2\\x93NBN\\xeb\\xfc\\xfe\\xeb\\xcc\\x9c\\xe9\\x97_\\xceL\\xce\\x9cs\\xe6|\\x14\\xbb\\xdd\\x0eH\\x08@\\xf5w\\x00c\\x1e\\xd2 QH\\x83D!\\r\\x12\\x854H\\x14\\xd2 Qh\\x04\\xcbk\\xe4\\x16\\x95\\xcc\\xa2\\xd7\\xa0z5j\\xb5\\xd8m\\xb61\\xd06Bh\\x80F\\xa3\\xb2\\xf9\\x08\\x9bG\\x13\\x86\\xd2\\xd9\\\\B\\x12(\\xa3k\\x0f\\xca\\xfaMm?\\xe8:\\xeat\\x0c6\\x05\\xd8)l\\x1e\\xc2\\xe6#,\\x0e\\xcd\\x86\\x8e\\x01\\x834:E\\xab\\xb6\\xea\\xd5\\xa8^c5\\x19lt\\x065>\\x83\\x93\\x98\\xc9\\xe5\\x8b\\xe8\\xa38\\x9b\\xc7\\x06\\xb5J\\xeb\\xc5*\\xa9\\x1d\\x80@1=.\\x83\\x13\\x12\\xc9\\x1c\\xc5\\x7f\\x85\\x8a\\xfe\\x0eC{\\x9dN1`\\xe6\\ni\\xb3\\n\\xc4\\x0c\\xa6gw6\\xcf\\x0c^;)\\xaf\\xbf\\xa8\\x9a\\xb5D<q*\\xcf\\xf3Pa\\xa7\\xee\\xbc\\xea\\xe2\\x97\\xd2\\x19O\\x892g\\x07\\xe2/\\xe5\\x81\\xc1c\\xef\\xf7&N\\xe1\\xa6\\xcd\\x10\\x8c6\\xc2\\xb1\\xc1\\xf7\\xdf\\xc8e\\xf7\\xcc\\xf3KCq\\x1e\\x8f\\xb7\\xc6V\\xbc\\xd61\\xe5I\\xe1\\xb8\\xd7\\x07\\x00\\x98\\x9a\\x1f\\x14\\x93\\xcc9\\xf6~/\\xde\\x02v\\x1c\\xec\\xdd\\xda.\\xed3\\xe29r\\xdcp\\xe7\\xa6\\xe6\\xe0\\xaen<Gb_\\xc5\\xc7\\xde\\xef\\x9d\\xf2\\xa40z\"\\xdb\\x0b\\xdf\\xef\\x98\\xa2\\xf1\\x8a\\xba\\xb7\\xdd\\x90\\xbfB\\xe2\\xfe0\\x0c\\x83\\xb5\\xa7\\xe4,.\\x926s\\xfc_\\xbcN\\xa9\\xfdF\\xce\\xe2`||w\\xf7A\\xad\\xd2ZwA\\xf5\\x93\\xd5\\x07\\x00\\xc8\\xca\\x0f:sh\\xc8\\xfd1\\xee\\x0c^\\xac\\x92\\xceZ\"\\xf6vTc\\x8c\\x99\\x05\\xa2\\x8bUR7\\x07\\xb84(\\xeb7\\xd9\\x01\\x18\\x97\\xed>\\x8f\\x98\\x9a\\'\\x94\\xf6\\x99\\x8c:\\xab\\xab\\x03\\\\\\x1al\\xfbA\\x17(\\x1e\\xcdS\\xce\\xe8\\xa8\\xaf\\xaf7\\x99L\\xfe*\\xee\\x1e\\x0e\\x9f\\xd6^\\xafw\\xb5\\xd7\\xa5\\xc1\\x8e:]\\\\\\x06\\xc7G1=DUU\\xd5\\xda\\xb5k\\r\\x06\\x83_\\x8ac\\x12\\x9f\\xc1m\\xaf\\xd3\\xba\\xda\\xeb\\xdc\\xa0Zn\\t`S\\x1f\\xd93\\xef\\xa8\\xab\\x8f\\xa3!\\xe1\\xbb\\xda\\xe7 .\\x9d\\xa3UX]u;\\xb90(\\xb3\\xf8h\\x08\\xaf\\xab\\xabk\\xc3\\x86\\r\\xd9\\xd9\\xd9\\x8b\\x17/\\xde\\xb1c\\x87\\xcdf\\xab\\xaa\\xaa\\xda\\xb9s\\'\\x00 ???++\\xab\\xaa\\xaa\\n\\x00000\\xb0m\\xdb\\xb6\\xfc\\xfc\\xfc\\x193f,_\\xbe\\xfc\\xc4\\x89\\x13\\x8e\\xe2J\\xa52++k\\xff\\xfe\\xfd[\\xb7n\\xcd\\xce\\xce^\\xbf~\\xbd\\xd3\\xe2^\\xc7j\\xb1\\xab\\xa4\\x16\\xa7\\xbb\\x9cw\\x8d\\xe95(\\x9b\\x87\\xf8\"\\x947\\xdex\\xa3\\xb3\\xb3\\xf3\\xe5\\x97_\\xd6\\xe9t\\xb5\\xb5\\xb5T*\\xf5\\x89\\'\\x9e(--=p\\xe0\\xc0\\xee\\xdd\\xbb\\xb9\\\\ntt4\\x00\\xc0j\\xb5\\xde\\xbe}\\xfb\\x99g\\x9e\\t\\x0c\\x0c<}\\xfa\\xf4\\xd6\\xad[\\xa3\\xa2\\xa2\\xd2\\xd2\\xd2\\x1c\\'\\xa9\\xa8\\xa8x\\xf6\\xd9g\\xf7\\xec\\xd9\\x83 \\x88D\"\\x19Y\\xdc\\xeb\\xb0\\xf9\\x88^\\x8d\\nC\\x9c\\xecraP\\x8d\\xb2\\xf9>1\\xd8\\xd7\\xd7\\x97\\x9c\\x9c\\\\\\\\\\\\\\x0c\\x00(--\\x05\\x00\\x04\\x05\\x05EFF\\x02\\x00\\xd2\\xd3\\xd3\\x03\\x03\\xefw\\x8aDDD\\x1c>|\\x98B\\xa1\\x00\\x00\\x8a\\x8a\\x8a\\xf2\\xf3\\xf3kjj\\x86\\rfdd\\x94\\x95\\x95\\r\\x9fsdq\\xaf\\xc3\\xe1\\xd3tj\\xe7?\\xc7.\\x7fI\\xe8\\x0c\\x9f\\x0c\\x00,^\\xbc\\xf8\\xf2\\xe5\\xcb\\xe5\\xe5\\xe5r\\xb9\\xdc\\xfd\\x91---\\x9b7o^\\xb8paqq1\\x8a\\xa22\\x99lx\\xd7\\xf4\\xe9\\xd3}\\x11\\x9b\\x1b\\x18L\\xaa\\xab\\x877\\xe7\\x9a\\x98\\x1c\\xaaF\\xe1\\xb2\\x05D\\x84\\xb2\\xb2\\xb2\\xcd\\x9b7\\x9f<y\\xb2\\xb0\\xb0\\xf0\\xd0\\xa1C\\xae\\x0e\\xbbv\\xed\\xda\\x9a5k\\xccf\\xf3\\xb6m\\xdb\\xca\\xcb\\xcb\\x05\\x02\\x81\\xcdf\\x1b\\xde\\xcbb\\xb1|\\x11\\x9b\\x1bTR\\x0b\\x9b\\xe7\\xfczu\\xbe\\x95\\xcd\\xa3\\xe95>1H\\xa1PV\\xae\\\\YTT\\xb4c\\xc7\\x8e\\xf2\\xf2\\xf2\\xa4\\xa4\\xa4\\xc9\\x93\\';v=\\xf8%\\xef\\xdd\\xbb722r\\xf7\\xee\\xdd4\\x1a\\r\\xa72\\x9fN_q\\xf3\\xc3\\xe0\\xbc\\x0er\\x85H\\x00\\xcb\\'W\\xb1\\xa3\\xe5\\xc1\\xe1p6l\\xd8\\x00\\x00hjj\\x1a\\x1644\\xf4\\xe3\\x13\\xa8R\\xa9LJJr\\xe83\\x9b\\xcdz\\xbd\\xfe\\xc1:\\xf8\\x10#\\x8b{\\x1d\\x8e\\x00\\xe1\\t\\x9d?_8\\xaf\\x83A\\x92\\x80\\xa1\\x1e\\xb3r\\xc8\\x1c\\x18\\xcc\\xf0n([\\xb6l\\xe1r\\xb93f\\xcc8\\x7f\\xfe<\\x00 %%\\x05\\x00\\x90\\x99\\x99\\x89 \\xc8\\xae]\\xbb\\n\\x0b\\x0bM&SII\\x89\\xa3]r\\xec\\xd81\\x81@PYY\\xa9V\\xab\\xdb\\xda\\xda\\\\\\xd5\\xb2\\x91\\xc5\\xbd\\x1bso\\xab\\xc1f\\x05\\xae\\xc6O\\x90\\xed\\xdb\\xb7;\\xdd\\xa1QXu*kX\\x9c\\x97\\xef8===\\xe7\\xcf\\x9f?q\\xe2\\x84\\xc1`\\xd8\\xb4iSnn.\\x00\\x80\\xcf\\xe7K$\\x92S\\xa7N\\x9d;wN\\xadV\\x17\\x14\\x14dff\\xb6\\xb7\\xb7\\x1f<x\\xb0\\xb6\\xb6v\\xde\\xbcy\\xcb\\x97/\\xaf\\xae\\xaeNNN\\x16\\x89D\\x1f}\\xf4Qvvvjj\\xea\\xf09G\\x16\\xf7n\\xcc\\xb7\\xce*%\\xb1\\xcc\\xd0X\\xe7\\xcf\\x17.\\xfb\\x07\\xfb\\xda\\r\\x8dW\\xd4yX\\xfd\\x8b?\\x05\\xbe\\xaa\\xe8\\xcf.\\x12\\x0b\\\\\\xf4\\x12\\xb8\\x1cl\\x0e\\x8fg]=!\\xbf\\xdb\\xa2\\x8fJr\\xde;\\xadV\\xab\\x0b\\x0b\\x0b\\x9d\\xee\\x8a\\x8c\\x8c\\xec\\xe9\\xe9\\x19\\xb9=\\'\\'\\xe7\\xf5\\xd7_\\xc7\\x1d\\xf9(y\\xf1\\xc5\\x17[[[GnOIIill\\x1c\\xb9===\\xfd\\xddw\\xdfuu\\xb6\\xc6\\xab\\xea\\x00\\x16\\xd5\\x95>\\x8c>\\xea\\xc1\\xbb\\xc63\\x87\\x86\\x96\\xbf\\x1c\\xe5t\\xaf\\xcdf\\xbbw\\xef\\x9e\\xf3\\x93R\\x9c\\x9f\\x96\\xc5b\\t\\x85BW\\xff\\xce[\\x0c\\r\\rY,N\\x9e\\xc0\\\\E\\xc5`0\\xc4b\\x97\\xdd\\xa0\\x15\\xafu\\xacx%\\xcaUS\\x06\\xbb\\x97\\xff\\xbb#C\\xd1I\\xec\\xd8\\xb4G\\xd4I\\x03\\x1b\\xb7/\\xab\\xf4jt\\xda\\xfc 7\\xc7`4Y\\xe6\\x14\\x07\\x9f\\xfd|H-s\\xfeP=\\xbe\\xe9k34]\\xd3\\xb8\\xd7\\x07\\xf0\\x8cv\\x9a\\x8c\\xe8\\x9eWZ\\xbd1\\x828\\x960\\xe8,\\x7f\\xfb]\\x1b\\x9e#q\\x8d\\x17\\x9bM\\xe8\\xdf~\\xdf\\xaaUY\\x08\\x0766\\x18\\xec1V\\xfc\\xb1\\xddj\\xb5\\xe19\\x18\\xef\\xac\\x0f\\x83\\x16\\xfd\\xa4\\xbc{\\xc1\\xcf$\\x11\\x89\\xe3|\\xe0\\xb8\\xf5\\x96\\xa6\\xf6\\xa4\\xe2\\xb9\\xdf\\xe2\\xed%\\xf3l\\xe6\\xd1\\x99O\\x07\\xd5\\n\\xcb\\x13K\\xc4\\xe2\\x88\\x80\\xd1F\\x08/\\xbdm\\x86KU2IL\\xc0\\xec\\xe2`\\xfc\\xa5<\\x9e\\xfd\\xd6\\xdd\\xa4\\xbfP%\\x8dNfK\\xa2\\x98q\\xe9\\x1c\\x84F\\xf1<T\\xb80\\x1bm\\xed\\xf5\\xda{\\x9dFy\\xbfy\\xe6\\x12QX\\xacg\\x8fa\\xa3\\x9c\\x81\\xd9\\xf6\\x83\\xb6\\xe5\\xba\\xa6\\xa3^7q*\\x8f\\x1e@\\xe5\\xf0i\\x1c\\x01\\xc2d#ca\\n+@\\xa8\\x14\\xbd\\xc6\\xaaS[ujT\\xab\\xb2\\xf4\\xb4\\x18\\xe2\\xd3\\xb9IY\\xdc\\x98\\xe4\\xd14\\xdaFip\\x98\\xee&\\xbdb\\xd0\\xacS[u*\\xd4f\\xb3[\\xcd\\xdeT\\x88\\xa2h]]\\xddp\\xf7\\x97\\xb7\\x08`S\\x1d\\xdd\\xce\\x1c>\"\\nc\\x10\\xbc\\xb3\\x135\\xe8S\\xb4ZmAAAMM\\x8d\\xbf\\x03q\\x079\\x97\\x9f(\\xa4A\\xa2\\xc0n\\xd0\\xd1\\x05\\x0b3\\xb0\\x1bt\\xda\\x1f\\x05\\x15\\xb0\\x1b\\xf4\\xdd\\x10\\xb0\\xb7\\x80\\xdd\\xa0R\\xa9\\xf4w\\x08\\x18\\xc0n0<<\\xdc\\xdf!`\\x00\\xbb\\xc1\\xbe\\xbe>\\x7f\\x87\\x80\\x01\\xec\\x06322\\xfc\\x1d\\x02\\x06\\xb0\\x1b\\xac\\xab\\xab\\xf3w\\x08\\x18\\xc0n\\x10~`7\\xe8f\\x14\\r\\x12`7(\\x95\\xba{\\x13\\x01\\x06`7\\x18\\x1c\\xecAw\\xb1_\\x80\\xdd\\xa0Ogdy\\x05\\xd8\\r\\xc2\\x0f\\xec\\x06\\x13\\x13\\x13\\xfd\\x1d\\x02\\x06\\xb0\\x1bt:\\x87\\x08*`7\\x08?\\xb0\\x1b|p\\xa6%\\x9c\\xc0n\\xb0\\xa1\\xa1\\xc1\\xdf!`\\x00\\xbbA\\xf8\\x81\\xdd \\xd97C\\x14\\xb2of\\xfc\\x03\\xbbAr\\xb4\\x93(\\xe4h\\xe7\\xf8\\x07v\\x83\\xe4x1Q\\xc8\\xf1b\\xa2L\\x980\\xc1\\xdf!`\\x00\\xbb\\xc1;w\\xee\\xf8;\\x04\\x0c`7\\x08?\\xb0\\x1b\\x0c\\r\\xc5\\xbb\\x16\\xa5\\xbf\\x80\\xdd\\xa0\\xab\\x97\\x1f\\xe1\\x01v\\x83\\xe9\\xe9\\xe9\\xfe\\x0e\\x01\\x03\\xd8\\r\\xd6\\xd7\\xd7\\xfb;\\x04\\x0c`7H\\xd6A\\xa2\\x90u\\x90(QQ\\xce\\xdf\\xb0\\x87\\x07\\x18\\xdf\\xc8Y\\xbf~}__\\x1f\\x8dF\\xb3\\xd9lR\\xa9T,\\x16S\\xa9T\\x8b\\xc5r\\xfc\\xf8q\\x7f\\x87\\xe6\\x04\\x18\\xeb\\xe0\\xaaU\\xab\\xd4juooo\\x7f\\x7f\\xbf\\xc5b\\xe9\\xef\\xef\\xef\\xed\\xedE\\x10\\x9f\\xac\\xa4F\\x1c\\x18\\r\\xe6\\xe6\\xe6>\\xf48l\\xb7\\xdb\\xa1\\x1d0\\x81\\xd1 \\x00`\\xf5\\xea\\xd5l\\xf6\\x8f/\\x0c\\x86\\x85\\x85=\\xf7\\xdcs~\\x8d\\xc8%\\x90\\x1a\\x9c;wn\\\\\\\\\\xdc\\xf0=:33s\\xd2\\xa4I\\xfe\\x0e\\xca9\\x90\\x1a\\x04\\x00\\xac[\\xb7\\xce\\xd1\\xbd*\\x16\\x8b\\xa1\\xad\\x80P\\x1b\\xcc\\xcd\\xcd\\x8d\\x8f\\x8fw\\x0c\\x19C{\\x13\\xf4,O\\x93Q\\x8f\\xca\\xfa\\xcc&\\xa3\\xcbU\\xec\\xbc\\xce\\xd2\\xf9/\\x99\\x14\\x9f.\\xce]\\xd7^\\xaf{d\\xff\\x94\\xc5\\xa1\\x8a\\xc3\\x03\\xe8\\x01x\\xeb\\x16\\xae\\xf6\\xa0\\xddn\\xaf\\xfe\\xe8^w\\x93!b\\x02\\x1b\\xb5@\\xd7~\\xf4.\\xa8\\xd56\\xd0eL\\x9c\\xcc\\xcd_\\x89k\\xd56l\\x83\\x16\\x93\\xed\\xb3\\xbf\\xf4L\\xce\\x15EL\\xf8\\t\\xad\\x1du\\xe7\\x86\\xba\\xbbQS\\xb4!\\xdc\\xb1\\x9a\\xae\\x1b\\xb0\\r~\\xf2V\\xf7\\xcc%\\x12Q\\xd88\\\\\\x1e\\xc5=\\x9d\\r\\x9a\\xce:\\xcd\\x92\\x9fc\\xbc\\xd8\\x87q\\xb57\\xd5\\xaa\\xc3\\xe3\\xd9?A}\\x00\\x80\\xd8T\\x1e\\x83\\x85t7c\\xdc\\x821\\x0c\\x0e\\xde51\\x89%\\xc4\\x1b\\xd3\\xd0\\x03\\x10i\\x9f\\xd9\\xfd1\\x18\\x06\\xcd\\x06\\x1b/\\xe8\\xd1e\\x88\\x80\\x8d\\xc0\\x10\\x86Q\\x83\\xba?\\x06\\xcb\\xa0\\xd1f\\x7ft\\xad\\x17\\xe8@-v\\x0bV\\xdb\\x03\\xde\\x16\\xf5X\\x814H\\x14\\xd2 QH\\x83D!\\r\\x12\\x854H\\x14\\xd2 QH\\x83D!\\r\\x12\\x854H\\x14\\xd2 Q\\x1e\\x91\\xc1;\\xad\\xcds\\xf3\\xb2.]:\\xe7i\\xc1\\x86\\xc6\\x7fI\\'\\xb9\\xf5\\x8f/\\xbf\\xb4\\xa1\\xd4\\xd3\\x93\\xa0(ZWw\\xd3\\xd3R8\\x81\\xba\\x0e\\x9e\\xa8\\xae*\\xfb\\xe5Z\\xa3\\x91h:\\xc9\\xb7\\xde~\\xe3\\x9d\\xdd;\\xbc\\x14\\xd4\\xc3@m\\xd0[\\xe9$\\xcd\\xbeLK\\xe9\\xfd\\xdeS\\xa3\\xd1\\xb8\\xff\\xc0\\xde3gN\\x0eI\\x07%\\x92\\xb0\\xf9\\xf3\\x9eZ\\xb5r\\x9dcWGg\\xdb\\xc1C\\x1f577DFF\\xffz\\xd3\\x96\\x8c\\x8c\\xc9\\x00\\x80\\xc1\\xc1\\x81\\x8a\\x0f\\xde\\xbbr\\xe5\\x82N\\xa7\\x8d\\x8a\\x8aY\\xb9b]~\\xdeBG\\x05\\xdc\\xfd\\xdf;\\x01\\x00K\\x9f\\xce\\x07\\x00lye\\xdb\\xc2\\x05K\\x00\\x00:\\xbdn\\xdb\\xf6W\\xae\\xdf\\xb8\\xca`\\x04\\xe4=\\xb9\\xf0\\x85\\xe77\\x06\\x04\\xdc\\xefB?y\\xf2\\xab\\xcaO>\\xe8\\xeb\\xeb\\x11\\x89\\xc4O-.^\\xb5r\\x1d\\x95J\\xddY\\xbe\\xfdL\\xcd)\\x00\\xc0\\xdc\\xbc,\\x00\\xc0\\xe1O\\xbf\\x16\\x8b\\xbd\\xb9\\x86\\x8d\\x97\\r\\xa2(\\xfa\\x87W\\xff\\xad\\xae\\xfe\\xe6\\xd3\\xc5\\xcf%&$uv\\xb5\\xdf\\xed\\xe9\\x1a\\x9e4t\\xa0\\xb2b\\xd9\\xb3\\xab\\x17-,\\xfc\\xf8\\x93\\x0f_}m\\xf3\\xc7\\x07\\xbe\\xe0r\\xb9V\\xd4\\xda\\xd4t\\xbb\\xa8\\xf0\\x19\\x01?\\xf0\\xbb\\xf3\\xa7\\xdf\\xdc\\xb15\"\"*%9\\xed\\xf1\\xe9O,{\\xb6\\xf4\\xd0\\xe1\\x03\\xff\\xf9\\xe6n\\x0e\\x87\\x1b\\x19y\\x7f\\xa1\\xfc\\x81\\x81\\xfe\\x993f\\x97m|\\xf9\\xda\\xb5K\\x87\\xffY\\xd9\\xdbw\\xf7\\xcd7\\xde\\x01\\x00TW\\x7f\\xb9\\xb3|{^\\xde\\xc2\\x17\\x9e\\xdf\\xd8\\xd0P\\xb7\\xef\\x83\\xf7\\x01\\x00\\xabK_(]\\xf9\\xfc\\xd0\\xe0@\\x7f\\x7f\\xef\\xef\\x7f\\xf7\\'\\x00\\x80@\\xe0\\xe5\\x97\\xa4\\xbcl\\xf0\\xecw\\xdf\\xde\\xb8Y\\xfb\\xdb\\xdf\\xbc\\xb6xQ\\xd1\\xc8\\xbd\\xbf\\xde\\xb4e\\xc1\\x82\\x02\\x00@Lt\\xdc\\xc6_\\xae\\xfd\\xfe\\xfa\\x95\\x9c9y\\xe1a\\x11\\x1f\\xee\\xbb\\x9f`r\\xd1\\xa2\\xa2\\xe2\\x92\\xfc\\x0b\\x17jR\\x92\\xd3\\x84\\xc2\\xa0\\xf0\\xf0H\\x00@JJ\\xfa\\x83\\x1f;>.\\xb1l\\xe3f\\x00\\xc0\\xc2\\x05K\\xc4\\xe2\\x90C\\x87\\x0f\\xdc\\xbau}\\xd2\\xa4){\\xf7\\xfd5#c\\xf2\\xd6?\\xfc\\x07\\x00`\\xce\\xec\\'5\\x1a\\xf5\\xc1O\\xffQ\\xf2\\xf4\\x8a\\xc8\\xc8h\\x81 P\\xae\\x909\\xaa\\xbc\\xd7\\xf1\\xf2}\\xf0\\xea\\xb5\\x8b\\x01\\x01\\x01\\x0b\\xe6;\\xcf\\xd6\\xc5\\xe7\\xdfO\\t\\x1f\\x1b\\x9b\\x00\\x00\\x18\\x1a\\x1ap\\xfc\\xd9\\xda\\xd6\\xf2\\xeak\\x9b\\x9fY\\xb6p\\xf5\\x9ab\\x14E\\xe5r\\x99\\xd3\\xe2#)^\\xba\\x1c\\x00p\\xe3fmOO\\xb7T:4g\\xf6\\x93\\xc3\\xbb\\xa6M\\x9b\\xa9\\xd7\\xeb{z\\xbb\\t\\x7f&\\x0c\\xbclP!\\x97\\x89E\\xc1\\x98s\\xfd\\xa8T\\xaa\\xe3\\x92\\x07\\x00\\\\\\xbfqmc\\xd9\\x1a\\x8b\\xd9\\xfc\\xcao\\xb7\\xbd\\xbe\\xad\\x9c\\xcf\\x17\\xe0\\x1fXp\\xdc\\xd1t:\\xadV\\xa7\\x05\\x00\\x04\\x06\\xfe\\x98\\xcf\\x86\\xc7\\xe3\\x03\\x00\\xa4C\\x83\\xc4>\\x106^\\xbe\\x8a\\xb9\\\\\\x9e\\\\\\x81\\xb7\\x069\\xd8\\xbf\\x7foxx\\xe4\\x8e7\\xff?\\xc1$\\xf3\\xe1\\xd4\\x0cnF\\xb4\\x95J\\x05\\x00@(\\x0c\\n\\t\\x96\\x00\\x00T\\xaa\\x1f_cT(\\xe4\\xc3\\x1e}\\x9a\\x93\\xd2\\xcbup\\xca\\x94i\\x06\\x83\\xe1\\xdb\\xd3\\xd5\\xc3[\\xacV\\x8c\\xfc\\x9f*\\xb521\\xe1\\x81\\x04\\x93\\x86\\x1f\\x13L:lJ\\xa5.\\x17/;{\\xf6\\x1b\\x00\\xc0c\\x8fM\\x17\\x89\\xc4\\xa1\\x92\\xb0\\xabW/<\\xb8\\x8b\\xc9d&&N\\x04\\x000\\x99,\\xb9\\\\\\xe6&o%\\x11\\xbc\\\\\\x07\\xe7\\xe5/>z\\xec\\xd0\\xce\\xff\\xda\\xd6\\xd4t;1!\\xa9\\xbd\\xa3\\xf5\\xfb\\xebW\\xfewO\\xa5\\x9b\"\\x93\\'gUWW\\x1d\\xff\\xfa\\x18\\x9f\\'8\\xfcY\\xa5F\\xa3\\xee\\xech\\xb3\\xdb\\xed\\x14\\n%-=\\x13A\\x90w\\xdf\\xdb\\xb5hA\\xa1\\xc9l*\\\\R\\x02\\x00hk\\xbf\\xf3\\xd7\\xf7\\xdeIH\\x98\\xd0\\xdc\\xdcP\\xf5\\xe5\\xe79s\\xf2\\x92\\'\\xa6\\x02\\x00\\xd6\\xaeyig\\xf9\\xf6\\xb7v\\xbd1m\\xda\\xcc\\xeb\\xd7\\xaf\\x9e\\xbfP\\xb3\\xe6g?w\\xa4\\xf4\\xcc\\x9c\\xf4\\xd8\\xd7\\'\\xbex\\xe7\\xcf;2\\xd2\\'K$a\\x93\\'O\\xf5\\xe2Gv\\x99u\\xd2\\xc1\\x9d\\x1b\\xda\\xc0\\x90\\x00\\x81\\x18o\\xf6N\\x1a\\x8d\\x96\\x933O\\xa5R\\xd6\\x9c=u\\xe1b\\x8dJ\\xad\\xcc\\xcd\\x99\\x97\\x9a\\x9a\\xa1R)\\xab\\xbe\\xfc<\\xef\\xc9\\x85QQ1\\x8e;\\xe0\\x81\\xca}YY3\\xd2\\xd32\\xd3R3\\xbb\\xba\\xda??r\\xf0\\xe6\\xad\\xda\\xdc\\x9cyO/]~\\xfaL\\xf5\\x84\\t\\xc9aa\\x11|\\x1e?8XRSs\\xea\\xd2\\xa5s\\x1a\\x8dz\\xc1\\x82\\x82\\xd3gN\\xce\\xce\\x9e\\xdb\\xd4t\\xfb\\xab\\xe3G\\xfa\\xef\\xf5-)(\\xf9\\xd5\\xa6W\\x1c\\xb7\\xdd\\xc4\\xc4$\\xa10\\xe8\\xf4\\x99\\x93_\\x9f\\xf8B\\xa9\\x90\\xaf\\\\\\xb9\\xaet\\xd5\\xf3\\x8e\\x9f\\xf8\\xf8\\xf8D\\x8dF\\xf5\\xed\\xe9\\x13\\xb7~\\xb8\\x1e\\x15\\x19\\x9d\\x92\\x82\\xf7\\x1d\\x15i\\xaf\\xc9bBcS\\xddM\\x18\\xc2\\x987s|_\\x7fL\\x1a?zT\\xa9O\\xc6\\x01MWUz\\xb59\\xa7\\xc4]\\x0b\\x1c\\xea\\xa7\\xba1\\x01i\\x90(\\xa4A\\xa2\\x90\\x06\\x89B\\x1a$\\ni\\x90(\\xa4A\\xa2\\x90\\x06\\x89B\\x1a$\\ni\\x90(\\xa4A\\xa2\\x90\\x06\\x89B\\x1a$\\n\\x86AN \\x1d\\x8c\\xf9\\x04\\xc5\\xa3\\x87\\x8aP\\xd8\\\\\\xac\\x11\\x0b\\xf7\\xbb9<\\xea\\xd0]\\xa3W\\xa3\\x1aK\\x0ct\\x19x\"\\x8cNh\\x0c\\x83\\xd1)l\\xad\\x1c\\xe3\\xa5\\x9eq\\x8c^c\\x89J\\xc2\\xc8n\\x8ca0$\\x92\\x19\\x9e\\xc0<\\x7fd\\xc0\\xab\\x81\\x8d\\r\\xbe\\xfd\\xa4?c\\x96\\x80\\xc3\\xc7\\xa8\\x83\\xb8\\xde/\\xae\\xbb\\xa0j\\xab\\xd3\\xc5$s\\xc5\\x11L\\xfc\\xaf.\\x8fQ\\x8czT\\xdakl\\xbc\\xa2\\xcc.\\x12\\xc7\\xa5aw\\xce\\xe3]\\xb1\\xa7\\xb7U\\xdfxU\\xa3U\\xa1\\xca\\xc1GxQ\\xdb\\xed&\\xb3yxZ\\xcc\\xa3\\x81\\'\\xa4\\x07I\\xe8\\x99\\xb9\\x81A\\x12\\\\\\xa3C0\\xaey4\\x0c\\x99\\x85\\xfc\\'\\x01i\\x90(\\xb0\\x1b\\x84y\\x9d\\x14\\x07\\xb0\\x1b$\\xb3k\\x10\\x85\\xcc\\xb6F\\x142\\xdb\\x1aQ\\xc8\\xfc$D!\\xf3\\x93\\x10\\x85\\xbc\\x0f\\x12\\x85\\xbc\\x0f\\x8e\\x7f`78q\\xe2D\\x7f\\x87\\x80\\x01\\xec\\x06\\x9b\\x9b\\x9b\\xfd\\x1d\\x02\\x06\\xb0\\x1b\\x84\\x1f\\xd8\\r2\\x99L\\x7f\\x87\\x80\\x01\\xec\\x06\\x8dF\\xd8\\xc7\\xb9`7(\\x10\\x08\\xfc\\x1d\\x02\\x06\\xb0\\x1bT\\xa9T\\xfe\\x0e\\x01\\x03\\xd8\\r\\xc2\\x0f\\xec\\x06###\\xfd\\x1d\\x02\\x06\\xb0\\x1b\\xec\\xe9\\xe9\\xf1w\\x08\\x18\\xc0n\\x10~`7Hf\\x9d$\\n\\x99ur\\xfc\\x03\\xbbAr\\xb4\\x93(\\xe4h\\xe7\\xf8\\x07v\\x83\\xe48\\tQ\\xc8q\\x12\\xa2\\x08\\x85B\\x7f\\x87\\x80\\x01\\xec\\x06\\x15\\n\\x85\\xbfC\\xc0\\x00v\\x83\\xf0\\x03\\xbbAr\\xd6\\x07Q\\xc8Y\\x1fDIMM\\xf5w\\x08\\x18\\xc0n\\xb0\\xa1\\xa1\\xc1\\xdf!`\\x00\\xbbA\\xb2\\x0e\\x12\\x85\\xac\\x83DIKK\\xf3w\\x08\\x18\\xc0\\xf8FNYY\\x99\\\\.\\xa7\\xd3\\xe9(\\x8a\\xb6\\xb5\\xb5\\xc5\\xc7\\xc7\\xd3h4\\x14E++\\xdd\\xad\\xc2\\xe7/`\\xccE\\x97\\x93\\x93\\xf3\\xf6\\xdbo;\\xd6\\x18\\x05\\x00\\xb4\\xb4\\xb4\\xf8t\\x11K\\x82\\xc0x\\x15/[\\xb6,**\\xea\\xa1\\x8d\\xd3\\xa7O\\xf7S8\\x18\\xc0h\\x10\\x00PZZ\\xfa\\xe0\\x0b\\x89|>\\x7f\\xc5\\x8a\\x15~\\x8d\\xc8%\\x90\\x1a\\\\\\xbatiDD\\xc4\\xf0\\x9f\\x13&L\\x983g\\x8e_#r\\t\\xa4\\x06\\x01\\x00+V\\xacpTC\\x81@PZ\\xeaq>\\x88G\\x06\\xbc\\x06\\x8b\\x8b\\x8b\\x1d\\xd50!!a\\xf6\\xec\\xd9\\xfe\\x0e\\xc7%>\\xf9-\\xd6\\xab\\xad(F\\xbeP\\\\,/Y[QQ\\xb1\\xbcd\\xadF\\x81\\xb1$3\\x1eh4\\n\\x8b\\x87\\xb1p\\xc7(\\xf0N{p\\xa0\\xcb\\xd8^\\xaf\\x93\\xf5[\\xfa;\\x0c&=*\\x0ce\\x1a\\xb5^\\xf8\\xcc\\xde\\x85\\xc6\\xa0j\\xe4f&\\x07\\tK`\\x85D0\\xe2\\xd39\\xa2p/\\xbc=O\\xd4\\xe0\\x0f\\xe7\\x94\\x8d\\xd7\\xb4F\\x83\\x9d\\x13\\xc4\\xe6\\x8a\\xd84\\x06B\\x0b\\xf0\\xfe\\xf7\\xec-\\xecv\\xbb\\xd5\\x8cZM\\xa8V\\xaa\\xd3\\xc9\\xf4\\x02\\x11=e:7y\\x1a\\x9f\\xc89Go\\xb0\\xe5\\xba\\xe6\\xbb#R~\\x08G\\x18-\\xa03`l\\x99cb6Z\\xe5\\x9d\\n\\xb3\\xde\\x94S,\\x8eq\\xbb\\xe8\\xb4\\x1bFi\\xf0\\xab\\x0f\\x06\\xf5z\\x10\\x18.\\xa03\\xc7\\xa4\\xbb\\x071j\\xcd\\x9a\\x01\\xb58\\x8c6\\xb7D4\\x8a\\xe2\\xa31xp\\xd7]\\x96\\x90+\\x08\\'T\\xf9aC\\xde\\xad@\\x80\\xb9\\xe8%\\x8c\\xbc\\xf7#\\xf1\\xd8\\xe0\\x91\\xf7\\xfa\\xe8|>W\\xf4p\\x06\\x87q\\x80\\xa2O\\xcdeZ\\xe6\\xad\\n\\xf1\\xa8\\x94g\\xed\\xc1#\\x7f\\xed\\xa5\\xf3\\xb9\\xe3R\\x1f\\x00@\\x18\\xce\\xd7\\x19\\xe9\\xa7*=[\\xe0\\xc9\\x03\\x83\\xe7\\x8fI\\x01\\x83\\xc9\\x15\\x8d\\xe75\\xfa\\x03\\xc3\\xf9J\\x05\\xb8y\\xd6\\x83Aj\\xbc\\x06\\x07\\xbb\\x8dmuza\\xa4\\x97\\xd3DAHp\\x82\\xf8j\\xb5R\\xa7\\xc6\\xdb\\x9e\\xc5k\\xf0\\xdcQ\\x99(6\\x08\\xc7\\x81\\xe3\\x01I\\xa2\\xf0\\xfcQ)\\xce\\x83q\\x19\\xecn\\xd6\\x9b-\\x94\\xf1z\\xfb\\x1b\\x89 \\x8c7x\\xd7,\\xeb\\xc7\\x95\\'\\x10\\x97\\xc1[\\xdf\\xa9\\xd8\".\\xe1\\xc0|\\xc2\\x9f\\xca\\x0b\\xfeyl\\xa7\\xd7O\\xcb\\x16s\\xeb.\\xa8\\xf1\\x1c\\x89\\xcb`W\\xa3\\x8e\\x1f\\x82\\xb1\\x90\\xe18\\x83\\x17\\xcci\\xaf\\xd3\\xe19\\x12\\xdb`g\\x83.P\\xc2r\\xa4\\xeb\\xf9\\xe9\\xc0`\\xd1(\\x08U\\xda\\x87}!c?\\x93\\r\\xde52\\x05\\xbe\\xba\\x03\\xb6\\xb6\\x7f\\x7f\\xfc\\xd4{}\\xf7Zx\\xdc\\xa0\\xc4\\xb8\\xacE\\xf3~\\xc1\\xe7\\x89\\x01\\x00[\\xdf\\xcc+Y\\xb2\\xa5\\xbe\\xb1\\xa6\\xa1\\xf9\\x02\\x8b\\xc9\\x9d1\\xadx\\xfe\\xdc\\x17\\x1dEP\\x14\\xfd\\xa6\\xa6\\xe2r\\xedQ\\xb3\\xd9\\x90\\x10?\\xd5b\\xf1\\xd5\\xeb\\xb3\\x9c \\xe6@\\x97Q\\x8c\\xd5\\x7f\\x83]\\x07\\xd52+\\x15\\xf1IG\\xec\\x9d\\xb6k\\x7f\\xff\\xe8W\\x92\\x90\\xb8eK_\\x9d3ke{\\xe7\\x8d=\\x1f\\x94\\x99\\xcd\\xf7\\x8d\\x1c\\xfc\\xfc\\xf5\\xf0\\xd0\\xa4\\x8d/\\xecy,s\\xd1\\xc9\\xd3\\x7foh\\xbe\\x9fI\\xed\\xc8\\x97o\\x9d\\xaa\\xa9HN\\x9aU\\\\\\xf0\\x1b\\x06\\x9di0j|\\x11\\x1b\\x00\\x80B\\xa1\\xe2\\xe9\\x97\\xc4\\xae\\x83Z%J\\xc7ZQxt\\x1c\\xfd\\xea\\xed\\x19Y\\xc5\\xc5\\x05\\xbfq\\xfc\\x99\\x94\\xf8\\xf8[\\xff\\xb3\\xbc\\xb9\\xf5rFj.\\x00`\\xfac\\x85y9k\\x01\\x00\\xe1\\xa1IW\\xbf?\\xd6\\xd2z9u\\xe2\\x13=}M\\x97k\\x8f\\xe4\\xe5\\xac[\\x94\\xbf\\x01\\x00\\x905\\xe5\\xa9\\xb6\\x8e\\xeb\\xbe\\x88\\r\\x00\\x800hZ\\x15\\xf6\\x82\\x9f\\xd8\\x06i\\x0c*\\xe2\\x83.?\\xb9\\xa2\\x7f`\\xa8C*\\xbf{\\xb9\\xf6\\xe8\\x83\\xdb\\x95\\xaa\\xfb\\x0fU\\x0c\\xc6\\xfd[\\x07\\x82 \\x02~\\x88J=\\x04\\x00\\xa8k\\xa8\\x01\\x00\\xcc\\x99\\xf5\\xe3\\xb8\\x1d\\x85\\xe2\\xab\\x81\\n:\\x13\\x018\\x16\\xe3\\xc66h\\xb5\\xd8l&\\xd4\\xeb7B\\x8dV\\x06\\x00\\x987\\xf7\\xc5I\\xa9s\\x1f\\xdc\\xce\\xe3\\x89G\\x1eL\\xa5\\xd2l6\\x14\\x00\\xa0T\\xdec2\\xb9\\x1c\\xf6\\xa3x\\xf1\\xddb\\xb4\\xb2\\xb8\\xd8\\xdd.\\xd8\\x069\\x02\\x9aF\\xe7\\x8dQ\\x8f\\x7f\\x85\\xc5\\xe4\\x01\\x00,\\x16SHp,\\xfeR\\x1c\\x8e\\xd0h\\xd4Z\\xacf:\\ro\\x12\\xc2Qc5\\xa1\\xbc\\x08\\xec\\x8b\\x0f\\xfb\\x12\\x08\\x0c\\xa6\\xd9}\\x90\\xf12X\\x1c\\x1d(\\x08\\xbdv\\xbd\\xcad\\xbe\\x9f\\xa6\\x1dE\\xadV\\xab\\xc5}\\xa9\\xc8\\x88d\\x00\\xc0\\x8d\\x1f\\xaa\\xdd\\x1f\\xe6%\\xec\\xbc \\x1cw9\\xcc#Bc\\x98M\\xb5rQ\\xb4\\x97/\\x1c\\n\\x85R\\xb4\\xf8\\xdf\\xff\\xf1\\xc9\\x96\\xbf\\xfc\\xed\\x85\\x99\\xd3\\x9f\\xb6\\xd9\\xd0\\xda\\x1b\\xc7\\xa7N^\\xf8\\xe0=n$\\x99i\\xf9\\xdf\\xd4\\xec\\xfb\\xec\\xd8\\xce{\\x03\\xed\\x11aI\\x9dw\\xeb\\xd4\\x1a\\x97yQ\\t\\xa2\\x19\\xd2\\x87\\xc5a\\x7fj\\xec:\\x18\\x95\\xc4\\xd6\\xc8L6\\xd4\\xfb\\xd50#5\\xf7\\xf9\\xd2w\\x10\\x84\\xfe\\xc5\\xf1?\\x7fS\\xb3O(\\x0c\\x8d\\x8f\\x9d\\xe2\\xbe\\x08\\x82 /\\xae\\xde\\x9d\\x94\\xf8\\xf8\\xa5k\\x9f}Y\\xfd\\x17*\\x85\\xcaa\\xfb\\xa4\\xbb\\xc8\\xa4\\xb3 T \\xc4\\xb1$5\\xae>\\xea\\xaf\\xf6\\xdd\\xb3\\x00V`\\x18\\xa4\\x8f\\xc6\\xbe@\\xda\\xa9\\x92\\x84\\xa2\\xb3\\x8b\\xdde\\xect\\x80k\\x9c\\xe8\\xb1\\xb9\\x82S\\x1fK\\xdd\\x18ln\\xbd\\xb2\\xff\\xd3?\\x8c\\xdcN\\xa7\\x05X\\xac\\xce\\x1f\\x8c6\\xad\\xdf+\\t\\x89\\xc3\\xf3\\xdf\\xf1\\xd0\\xd8|\\xa1\\xf2\\x9f\\x7f\\x1c\\xb9\\xddn\\xb7\\x03`w\\xda\\xe2\\xf9\\xc5\\xba\\xf7\"\\xc2].\\x8b\\xa6\\xecU\\xcf_\\x1e\\xe1j\\xef\\x83\\xe0\\x1d\\'9\\xfa~\\x1f\\x95\\xcds\\xd5\\xbf`6\\x1b\\xb5:\\xf9\\xc8\\xedV\\xab\\x85F\\xa3;-\"\\xe0\\x87 \\x88\\xd7\\xc6\\xf9\\\\\\x05`\\xb3\\xd9\\xecv\\xbb\\xd3\\xac\\xe8|^\\xb0\\xab\\xd8\\x14=j>\\xd7\\x92\\xb7\\x02\\xd7\\x80\\t^\\x83\\xb2{\\xa6\\xaa\\xbf\\x0f\\xc4f\\xe1\\xfaZ\\xc6:-\\xe7\\xba\\xd6l\\x8d\\t`\\xe3z\\x8e\\xc0\\xdb\\xa0\\x17\\x85\\x06\\xa4L\\xe7J\\xdb\\x9d|\\xcf\\xe3\\x8c\\xfe\\xa6\\xc1\\xec\"1N}\\x9e\\x8d4=\\xbe \\x88\\xc5D\\x95\\xfd\\xbez\\x92\\x87\\x01Y\\x972<\\x86\\x96\\xfa\\xb8\\x07C\\xe1\\x1e\\x8f\\x17\\x1f\\xffp\\xc0\\x842\\x85\\xe1\\xe3\\xf0wy\\xa8C\\x19\\x1a\\tf\\x17z6s\\xc1\\xe3\\xc7\\xf2\\xc5k%\\x14\\xb3N\\xd6\\xad\\xf4\\xb4 \\xe4\\x0c\\xb6\\xca\\x04|\\xab\\xa7\\xfaF?o\\xe6\\xfc1i_\\x97\\x95\\x17\\xcag\\xf1\\x1ei\\xfa\\x15_\\xa0S\\x18\\xf5Ru\\xe2$\\xd6\\x94\\xdc\\xd14\\xceG?w\\xab\\xabQ\\xff\\xdd\\x11)\\xc2\\xa0\\x07\\xc5\\x042\\xb9>\\x7f\\xce\\xf7\\x05\\x06\\xb5Y\\xd6!\\xa73\\xec9%\\xa2\\xd0\\x98Qv?\\x11\\x9d?\\xd8r]SwQ\\xa3\\x180\\xf3\\x82\\xd9\\x1c1\\x9bFG\\xe8\\x01\\x08B\\x87t\\n\\xa1c\\xf2\\xa0\\xd5b\\xd5\\x0c\\xea5C\\xfa\\xd0X\\xe6\\xa4l~\\xech\\xe7\\xbd9\\xf0\\xce\\x1cV\\x95\\xcc\\xd2Q\\xa7\\xbb\\xd7m\\x1a\\xe86\\x1a\\xb5(\\x8bG\\xd3k\\xa0\\x9b\\xc3J\\xa7SQ\\xab\\x8d\\xc9\\xa5\\x85\\xc62\\xc3c\\x03\\xe228\\x98y\\xc0\\xf0\\xe0\\x93\\xb7\\xc2\\xacf;\\x8aB\\xf7\\n\\x12\\x8dNAh\\xde\\x1fq\\x84\\xf1\\xbd\\xba\\xb1\\x05\\xbcoC\\x8c\\x15H\\x83D!\\r\\x12\\x854H\\x14\\xd2 QH\\x83D\\xf9?\\xfd\\xc9BR\\xd98\\x0cI\\x00\\x00\\x00\\x00IEND\\xaeB`\\x82'"
      ]
     },
     "execution_count": 7,
     "metadata": {},
     "output_type": "execute_result"
    }
   ],
   "source": [
    "graph.get_graph().draw_mermaid_png()"
   ]
  },
  {
   "cell_type": "code",
   "execution_count": 8,
   "metadata": {},
   "outputs": [],
   "source": [
    "from langchain_core.messages import HumanMessage"
   ]
  },
  {
   "cell_type": "code",
   "execution_count": 9,
   "metadata": {},
   "outputs": [
    {
     "name": "stdout",
     "output_type": "stream",
     "text": [
      "{'chatbot': {'messages': [AIMessage(content='Hello! How can I assist you today? Feel free to ask me any questions or let me know if you need help with anything specific.', additional_kwargs={}, response_metadata={'model': 'qwen2.5:32b', 'created_at': '2025-03-05T16:49:09.279574Z', 'done': True, 'done_reason': 'stop', 'total_duration': 9493749166, 'load_duration': 561253541, 'prompt_eval_count': 31, 'prompt_eval_duration': 7371000000, 'eval_count': 29, 'eval_duration': 1391000000, 'message': Message(role='assistant', content='', images=None, tool_calls=None)}, id='run-2226a224-c9be-469c-a7fc-2650b369d8e2-0', usage_metadata={'input_tokens': 31, 'output_tokens': 29, 'total_tokens': 60})]}}\n"
     ]
    }
   ],
   "source": [
    "input = {\"messages\": [HumanMessage('hi!')]}\n",
    "for chunk in graph.stream(input):\n",
    "    print(chunk)"
   ]
  },
  {
   "cell_type": "markdown",
   "metadata": {},
   "source": [
    "## Adding Memory to StateGraph"
   ]
  },
  {
   "cell_type": "code",
   "execution_count": 10,
   "metadata": {},
   "outputs": [],
   "source": [
    "from langgraph.checkpoint.memory import MemorySaver\n",
    "\n",
    "graph = builder.compile(checkpointer=MemorySaver())"
   ]
  },
  {
   "cell_type": "code",
   "execution_count": 11,
   "metadata": {},
   "outputs": [
    {
     "data": {
      "image/png": "[encoded data removed]",
      "text/plain": [
       "<langgraph.graph.state.CompiledStateGraph object at 0x1147c6300>"
      ]
     },
     "execution_count": 11,
     "metadata": {},
     "output_type": "execute_result"
    }
   ],
   "source": [
    "graph"
   ]
  },
  {
   "cell_type": "code",
   "execution_count": 12,
   "metadata": {},
   "outputs": [],
   "source": [
    "thread1 = {\"configurable\": {\"thread_id\": \"1\"}}\n",
    "result_1 = graph.invoke(\n",
    "    { \"messages\": [HumanMessage(\"hi, my name is Jack!\")] }, \n",
    "    thread1\n",
    ")"
   ]
  },
  {
   "cell_type": "code",
   "execution_count": 13,
   "metadata": {},
   "outputs": [
    {
     "data": {
      "text/plain": [
       "{'messages': [HumanMessage(content='hi, my name is Jack!', additional_kwargs={}, response_metadata={}, id='17ecb8ee-617b-4bdf-8cfb-7e7185c9de64'),\n",
       "  AIMessage(content=\"Hello Jack! It's nice to meet you. How can I assist you today?\", additional_kwargs={}, response_metadata={'model': 'qwen2.5:32b', 'created_at': '2025-03-05T17:08:21.098452Z', 'done': True, 'done_reason': 'stop', 'total_duration': 2310243916, 'load_duration': 556787750, 'prompt_eval_count': 36, 'prompt_eval_duration': 748000000, 'eval_count': 18, 'eval_duration': 831000000, 'message': Message(role='assistant', content='', images=None, tool_calls=None)}, id='run-66282365-97a1-4c1b-a22c-f28b9816f99d-0', usage_metadata={'input_tokens': 36, 'output_tokens': 18, 'total_tokens': 54})]}"
      ]
     },
     "execution_count": 13,
     "metadata": {},
     "output_type": "execute_result"
    }
   ],
   "source": [
    "result_1"
   ]
  },
  {
   "cell_type": "code",
   "execution_count": 14,
   "metadata": {},
   "outputs": [
    {
     "data": {
      "text/plain": [
       "{'messages': [HumanMessage(content='hi, my name is Jack!', additional_kwargs={}, response_metadata={}, id='17ecb8ee-617b-4bdf-8cfb-7e7185c9de64'),\n",
       "  AIMessage(content=\"Hello Jack! It's nice to meet you. How can I assist you today?\", additional_kwargs={}, response_metadata={'model': 'qwen2.5:32b', 'created_at': '2025-03-05T17:08:21.098452Z', 'done': True, 'done_reason': 'stop', 'total_duration': 2310243916, 'load_duration': 556787750, 'prompt_eval_count': 36, 'prompt_eval_duration': 748000000, 'eval_count': 18, 'eval_duration': 831000000, 'message': {'role': 'assistant', 'content': '', 'images': None, 'tool_calls': None}}, id='run-66282365-97a1-4c1b-a22c-f28b9816f99d-0', usage_metadata={'input_tokens': 36, 'output_tokens': 18, 'total_tokens': 54}),\n",
       "  HumanMessage(content='what is my name?', additional_kwargs={}, response_metadata={}, id='5f425b83-efc8-44bb-ae8b-cea551c1781d'),\n",
       "  AIMessage(content='Your name is Jack.', additional_kwargs={}, response_metadata={'model': 'qwen2.5:32b', 'created_at': '2025-03-05T17:08:59.132275Z', 'done': True, 'done_reason': 'stop', 'total_duration': 906570291, 'load_duration': 26891500, 'prompt_eval_count': 68, 'prompt_eval_duration': 632000000, 'eval_count': 6, 'eval_duration': 244000000, 'message': Message(role='assistant', content='', images=None, tool_calls=None)}, id='run-2be1d387-4d02-4ae7-a850-6c75ab422448-0', usage_metadata={'input_tokens': 68, 'output_tokens': 6, 'total_tokens': 74})]}"
      ]
     },
     "execution_count": 14,
     "metadata": {},
     "output_type": "execute_result"
    }
   ],
   "source": [
    "result_2 = graph.invoke(\n",
    "    { \"messages\": [HumanMessage(\"what is my name?\")] }, \n",
    "    thread1\n",
    ")\n",
    "result_2"
   ]
  },
  {
   "cell_type": "code",
   "execution_count": 15,
   "metadata": {},
   "outputs": [
    {
     "data": {
      "text/plain": [
       "[HumanMessage(content='hi, my name is Jack!', additional_kwargs={}, response_metadata={}, id='17ecb8ee-617b-4bdf-8cfb-7e7185c9de64'),\n",
       " AIMessage(content=\"Hello Jack! It's nice to meet you. How can I assist you today?\", additional_kwargs={}, response_metadata={'model': 'qwen2.5:32b', 'created_at': '2025-03-05T17:08:21.098452Z', 'done': True, 'done_reason': 'stop', 'total_duration': 2310243916, 'load_duration': 556787750, 'prompt_eval_count': 36, 'prompt_eval_duration': 748000000, 'eval_count': 18, 'eval_duration': 831000000, 'message': {'role': 'assistant', 'content': '', 'images': None, 'tool_calls': None}}, id='run-66282365-97a1-4c1b-a22c-f28b9816f99d-0', usage_metadata={'input_tokens': 36, 'output_tokens': 18, 'total_tokens': 54}),\n",
       " HumanMessage(content='what is my name?', additional_kwargs={}, response_metadata={}, id='5f425b83-efc8-44bb-ae8b-cea551c1781d'),\n",
       " AIMessage(content='Your name is Jack.', additional_kwargs={}, response_metadata={'model': 'qwen2.5:32b', 'created_at': '2025-03-05T17:08:59.132275Z', 'done': True, 'done_reason': 'stop', 'total_duration': 906570291, 'load_duration': 26891500, 'prompt_eval_count': 68, 'prompt_eval_duration': 632000000, 'eval_count': 6, 'eval_duration': 244000000, 'message': Message(role='assistant', content='', images=None, tool_calls=None)}, id='run-2be1d387-4d02-4ae7-a850-6c75ab422448-0', usage_metadata={'input_tokens': 68, 'output_tokens': 6, 'total_tokens': 74})]"
      ]
     },
     "execution_count": 15,
     "metadata": {},
     "output_type": "execute_result"
    }
   ],
   "source": [
    "result_2['messages']"
   ]
  },
  {
   "cell_type": "code",
   "execution_count": 16,
   "metadata": {},
   "outputs": [
    {
     "data": {
      "text/plain": [
       "StateSnapshot(values={'messages': [HumanMessage(content='hi, my name is Jack!', additional_kwargs={}, response_metadata={}, id='17ecb8ee-617b-4bdf-8cfb-7e7185c9de64'), AIMessage(content=\"Hello Jack! It's nice to meet you. How can I assist you today?\", additional_kwargs={}, response_metadata={'model': 'qwen2.5:32b', 'created_at': '2025-03-05T17:08:21.098452Z', 'done': True, 'done_reason': 'stop', 'total_duration': 2310243916, 'load_duration': 556787750, 'prompt_eval_count': 36, 'prompt_eval_duration': 748000000, 'eval_count': 18, 'eval_duration': 831000000, 'message': {'role': 'assistant', 'content': '', 'images': None, 'tool_calls': None}}, id='run-66282365-97a1-4c1b-a22c-f28b9816f99d-0', usage_metadata={'input_tokens': 36, 'output_tokens': 18, 'total_tokens': 54}), HumanMessage(content='what is my name?', additional_kwargs={}, response_metadata={}, id='5f425b83-efc8-44bb-ae8b-cea551c1781d'), AIMessage(content='Your name is Jack.', additional_kwargs={}, response_metadata={'model': 'qwen2.5:32b', 'created_at': '2025-03-05T17:08:59.132275Z', 'done': True, 'done_reason': 'stop', 'total_duration': 906570291, 'load_duration': 26891500, 'prompt_eval_count': 68, 'prompt_eval_duration': 632000000, 'eval_count': 6, 'eval_duration': 244000000, 'message': {'role': 'assistant', 'content': '', 'images': None, 'tool_calls': None}}, id='run-2be1d387-4d02-4ae7-a850-6c75ab422448-0', usage_metadata={'input_tokens': 68, 'output_tokens': 6, 'total_tokens': 74})]}, next=(), config={'configurable': {'thread_id': '1', 'checkpoint_ns': '', 'checkpoint_id': '1eff9e48-7674-6ba0-8004-ec202e95d6fc'}}, metadata={'source': 'loop', 'writes': {'chatbot': {'messages': [AIMessage(content='Your name is Jack.', additional_kwargs={}, response_metadata={'model': 'qwen2.5:32b', 'created_at': '2025-03-05T17:08:59.132275Z', 'done': True, 'done_reason': 'stop', 'total_duration': 906570291, 'load_duration': 26891500, 'prompt_eval_count': 68, 'prompt_eval_duration': 632000000, 'eval_count': 6, 'eval_duration': 244000000, 'message': {'role': 'assistant', 'content': '', 'images': None, 'tool_calls': None}}, id='run-2be1d387-4d02-4ae7-a850-6c75ab422448-0', usage_metadata={'input_tokens': 68, 'output_tokens': 6, 'total_tokens': 74})]}}, 'thread_id': '1', 'step': 4, 'parents': {}}, created_at='2025-03-05T17:08:59.132804+00:00', parent_config={'configurable': {'thread_id': '1', 'checkpoint_ns': '', 'checkpoint_id': '1eff9e48-6dca-68f6-8003-0f1f6479471c'}}, tasks=())"
      ]
     },
     "execution_count": 16,
     "metadata": {},
     "output_type": "execute_result"
    }
   ],
   "source": [
    "graph.get_state(thread1)"
   ]
  },
  {
   "cell_type": "code",
   "execution_count": null,
   "metadata": {},
   "outputs": [],
   "source": []
  }
 ],
 "metadata": {
  "kernelspec": {
   "display_name": "llm",
   "language": "python",
   "name": "python3"
  },
  "language_info": {
   "codemirror_mode": {
    "name": "ipython",
    "version": 3
   },
   "file_extension": ".py",
   "mimetype": "text/x-python",
   "name": "python",
   "nbconvert_exporter": "python",
   "pygments_lexer": "ipython3",
   "version": "3.12.9"
  }
 },
 "nbformat": 4,
 "nbformat_minor": 2
}
