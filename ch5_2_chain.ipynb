{
 "cells": [
  {
   "cell_type": "code",
   "execution_count": 1,
   "metadata": {},
   "outputs": [],
   "source": [
    "from typing import Annotated, TypedDict\n",
    "\n",
    "from langchain_core.messages import HumanMessage, SystemMessage\n",
    "from langchain_ollama import ChatOllama\n",
    "\n",
    "from langgraph.graph import END, START, StateGraph\n",
    "from langgraph.graph.message import add_messages"
   ]
  },
  {
   "cell_type": "code",
   "execution_count": 2,
   "metadata": {},
   "outputs": [],
   "source": [
    "# useful to generate SQL query\n",
    "model_low_temp = ChatOllama(base_url=\"http://localhost:11434\", model=\"qwen2.5:32b\", temperature=0.1)\n",
    "# useful to generate natural language outputs\n",
    "model_high_temp = ChatOllama(base_url=\"http://localhost:11434\", model=\"qwen2.5:32b\", temperature=0.7)"
   ]
  },
  {
   "cell_type": "code",
   "execution_count": 3,
   "metadata": {},
   "outputs": [],
   "source": [
    "class State(TypedDict):\n",
    "    # to track conversation history\n",
    "    messages: Annotated[list, add_messages]\n",
    "    # input\n",
    "    user_query: str\n",
    "    # output\n",
    "    sql_query: str\n",
    "    sql_explanation: str"
   ]
  },
  {
   "cell_type": "code",
   "execution_count": 4,
   "metadata": {},
   "outputs": [],
   "source": [
    "class Input(TypedDict):\n",
    "    user_query: str"
   ]
  },
  {
   "cell_type": "code",
   "execution_count": 5,
   "metadata": {},
   "outputs": [],
   "source": [
    "class Output(TypedDict):\n",
    "    sql_query: str\n",
    "    sql_explanation: str"
   ]
  },
  {
   "cell_type": "code",
   "execution_count": 6,
   "metadata": {},
   "outputs": [],
   "source": [
    "generate_prompt = SystemMessage(\n",
    "    \"You are a helpful data analyst who generates SQL queries for users based on their questions.\"\n",
    ")"
   ]
  },
  {
   "cell_type": "code",
   "execution_count": 7,
   "metadata": {},
   "outputs": [],
   "source": [
    "def generate_sql(state: State) -> State:\n",
    "    user_message = HumanMessage(state[\"user_query\"])\n",
    "    messages = [generate_prompt, *state[\"messages\"], user_message]\n",
    "    res = model_low_temp.invoke(messages)\n",
    "    return {\n",
    "        \"sql_query\": res.content,\n",
    "        # update conversation history\n",
    "        \"messages\": [user_message, res],\n",
    "    }"
   ]
  },
  {
   "cell_type": "code",
   "execution_count": 8,
   "metadata": {},
   "outputs": [],
   "source": [
    "explain_prompt = SystemMessage(\n",
    "    \"You are a helpful data analyst who explains SQL queries to users.\"\n",
    ")\n",
    "\n",
    "def explain_sql(state: State) -> State:\n",
    "    messages = [\n",
    "        explain_prompt,\n",
    "        # contains user's query and SQL query from prev step\n",
    "        *state[\"messages\"],\n",
    "    ]\n",
    "    res = model_high_temp.invoke(messages)\n",
    "    return {\n",
    "        \"sql_explanation\": res.content,\n",
    "        # update conversation history\n",
    "        \"messages\": res,\n",
    "    }"
   ]
  },
  {
   "cell_type": "code",
   "execution_count": 9,
   "metadata": {},
   "outputs": [],
   "source": [
    "builder = StateGraph(State, input=Input, output=Output)\n",
    "builder.add_node(\"generate_sql\", generate_sql)\n",
    "builder.add_node(\"explain_sql\", explain_sql)\n",
    "builder.add_edge(START, \"generate_sql\")\n",
    "builder.add_edge(\"generate_sql\", \"explain_sql\")\n",
    "builder.add_edge(\"explain_sql\", END)\n",
    "\n",
    "graph = builder.compile()"
   ]
  },
  {
   "cell_type": "code",
   "execution_count": 10,
   "metadata": {},
   "outputs": [
    {
     "data": {
      "image/png": "[encoded data removed]",
      "text/plain": [
       "<langgraph.graph.state.CompiledStateGraph object at 0x1052b9b80>"
      ]
     },
     "execution_count": 10,
     "metadata": {},
     "output_type": "execute_result"
    }
   ],
   "source": [
    "graph"
   ]
  },
  {
   "cell_type": "code",
   "execution_count": 11,
   "metadata": {},
   "outputs": [
    {
     "data": {
      "text/plain": [
       "{'sql_query': 'To determine the total sales for each product, you would typically need a table that records sales transactions, often called something like `sales` or `transactions`. This table should have at least two columns: one for the product (e.g., `product_id` or `product_name`) and another for the quantity sold or the sale amount (e.g., `quantity`, `sale_amount`, etc.).\\n\\nHere is a basic SQL query that calculates total sales for each product assuming you have a table named `sales` with columns `product_id` and `sale_amount`:\\n\\n```sql\\nSELECT \\n    product_id, \\n    SUM(sale_amount) AS total_sales\\nFROM \\n    sales\\nGROUP BY \\n    product_id;\\n```\\n\\nIf your table uses different column names or structures, please provide more details so I can adjust the query accordingly.',\n",
       " 'sql_explanation': ''}"
      ]
     },
     "execution_count": 11,
     "metadata": {},
     "output_type": "execute_result"
    }
   ],
   "source": [
    "graph.invoke({\n",
    "  \"user_query\": \"What is the total sales for each product?\"\n",
    "})"
   ]
  },
  {
   "cell_type": "code",
   "execution_count": null,
   "metadata": {},
   "outputs": [],
   "source": []
  }
 ],
 "metadata": {
  "kernelspec": {
   "display_name": "llm",
   "language": "python",
   "name": "python3"
  },
  "language_info": {
   "codemirror_mode": {
    "name": "ipython",
    "version": 3
   },
   "file_extension": ".py",
   "mimetype": "text/x-python",
   "name": "python",
   "nbconvert_exporter": "python",
   "pygments_lexer": "ipython3",
   "version": "3.12.9"
  }
 },
 "nbformat": 4,
 "nbformat_minor": 2
}
