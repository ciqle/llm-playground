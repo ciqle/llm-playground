{
 "cells": [
  {
   "cell_type": "code",
   "execution_count": 1,
   "metadata": {},
   "outputs": [],
   "source": [
    "import ast\n",
    "from typing import Annotated, TypedDict\n",
    "from uuid import uuid4\n",
    "\n",
    "from langchain_community.tools import DuckDuckGoSearchRun\n",
    "from langchain_core.messages import AIMessage, HumanMessage, ToolCall\n",
    "from langchain_core.tools import tool\n",
    "from langchain_ollama import ChatOllama\n",
    "\n",
    "from langgraph.graph import START, StateGraph\n",
    "from langgraph.graph.message import add_messages\n",
    "from langgraph.prebuilt import ToolNode, tools_condition"
   ]
  },
  {
   "cell_type": "code",
   "execution_count": 2,
   "metadata": {},
   "outputs": [],
   "source": [
    "@tool\n",
    "def calculator(query: str) -> str:\n",
    "    \"\"\"A simple calculator tool. Input should be a mathematical expression.\"\"\"\n",
    "    return ast.literal_eval(query)"
   ]
  },
  {
   "cell_type": "code",
   "execution_count": 3,
   "metadata": {},
   "outputs": [],
   "source": [
    "import os\n",
    "\n",
    "search = DuckDuckGoSearchRun()"
   ]
  },
  {
   "cell_type": "code",
   "execution_count": 4,
   "metadata": {},
   "outputs": [],
   "source": [
    "tools = [search, calculator]"
   ]
  },
  {
   "cell_type": "code",
   "execution_count": 5,
   "metadata": {},
   "outputs": [],
   "source": [
    "model = ChatOllama(\n",
    "    base_url=\"http://localhost:11434\", model=\"qwq:32b\", temperature=0.1\n",
    ").bind_tools(tools)"
   ]
  },
  {
   "cell_type": "code",
   "execution_count": 6,
   "metadata": {},
   "outputs": [],
   "source": [
    "class State(TypedDict):\n",
    "    messages: Annotated[list, add_messages]\n",
    "\n",
    "def model_node(state: State) -> State:\n",
    "    res = model.invoke(state[\"messages\"])\n",
    "    return {\"messages\": res}"
   ]
  },
  {
   "cell_type": "code",
   "execution_count": 7,
   "metadata": {},
   "outputs": [],
   "source": [
    "# ! important here!!!\n",
    "def first_model(state: State) -> State:\n",
    "    query = state[\"messages\"][-1].content # -1 means the last message\n",
    "    search_tool_call = ToolCall(\n",
    "        name=\"duckduckgo_search\",\n",
    "        args={\"query\": query},\n",
    "        id=uuid4().hex\n",
    "    )\n",
    "    return {\"messages\": AIMessage(content=\"\", tool_calls=[search_tool_call])}"
   ]
  },
  {
   "cell_type": "code",
   "execution_count": 8,
   "metadata": {},
   "outputs": [],
   "source": [
    "builder = StateGraph(State) # a graph based on State"
   ]
  },
  {
   "cell_type": "code",
   "execution_count": 9,
   "metadata": {},
   "outputs": [
    {
     "data": {
      "image/png": "[encoded data removed]",
      "text/plain": [
       "<langgraph.graph.state.CompiledStateGraph object at 0x1045ad3d0>"
      ]
     },
     "execution_count": 9,
     "metadata": {},
     "output_type": "execute_result"
    }
   ],
   "source": [
    "builder.add_node(\"first_model\", first_model)\n",
    "builder.add_node(\"model\", model_node)\n",
    "builder.add_node(\"tools\", ToolNode(tools))\n",
    "builder.add_edge(START, \"first_model\")\n",
    "builder.add_edge(\"first_model\", \"tools\")\n",
    "builder.add_conditional_edges(\n",
    "    \"model\", tools_condition\n",
    ")  # Use in the conditional_edge to route to the ToolNode if the last message has tool calls. Otherwise, route to the end.\n",
    "builder.add_edge(\"tools\", \"model\")\n",
    "\n",
    "graph = builder.compile()\n",
    "graph"
   ]
  },
  {
   "cell_type": "code",
   "execution_count": 10,
   "metadata": {},
   "outputs": [],
   "source": [
    "os.environ[\"HTTP_PROXY\"] = \"http://localhost:10086\"\n",
    "os.environ[\"HTTPS_PROXY\"] = \"http://localhost:10086\""
   ]
  },
  {
   "cell_type": "code",
   "execution_count": 11,
   "metadata": {},
   "outputs": [
    {
     "name": "stdout",
     "output_type": "stream",
     "text": [
      "{'first_model': {'messages': AIMessage(content='', additional_kwargs={}, response_metadata={}, id='b622dd34-2543-46c9-b1e2-19db282d016a', tool_calls=[{'name': 'duckduckgo_search', 'args': {'query': 'How old was the 30th president of the United States when he died?'}, 'id': 'b184cf571e2246f4a70e753c74b397ce', 'type': 'tool_call'}])}}\n",
      "{'tools': {'messages': [ToolMessage(content='John Calvin Coolidge Jr. [1] (/ ˈ k uː l ɪ dʒ / KOOL-ij; July 4, 1872 - January 5, 1933) was the 30th president of the United States, serving from 1923 to 1929.A Republican lawyer from Massachusetts, he previously served as the 29th vice president from 1921 to 1923 under President Warren G. Harding, and as the 48th governor of Massachusetts from 1919 to 1921. The White House, official residence of the president of the United States, in July 2008. The president of the United States is the head of state and head of government of the United States, [1] indirectly elected to a four-year term via the Electoral College. [2] Under the U.S. Constitution, the officeholder leads the executive branch of the federal government and is the commander-in-chief of ... As the head of the government of the United States, the president is arguably the most powerful government official in the world. The president is elected to a four-year term via an electoral college system. Since the Twenty-second Amendment was adopted in 1951, the American presidency has been limited to a maximum of two terms.. Click on a president below to learn more about each presidency ... Age of U.S. presidents when assuming office. Article Two of the United States Constitution provides that U.S. presidents must be at least 35 years old at the time they take office. The median age at inauguration of incoming U.S. presidents is 55 years. [1] [2] The youngest person to become U.S. president was Theodore Roosevelt at age 42, who succeeded to the office after the assassination of ... William Howard Taft was elected the 27th President of the United States (1909-1913). He is no doubt on the list of all presidents of USA. He later became the tenth Chief Justice of the United States (1921-1930), the only person to have served in both of these offices. From 1892 to 1900 he served as a judge of the United States Sixth Circuit ...', name='duckduckgo_search', id='3ab84731-850d-473a-9237-b35f76363b69', tool_call_id='b184cf571e2246f4a70e753c74b397ce')]}}\n",
      "{'model': {'messages': AIMessage(content=\"<think>\\nOkay, let's see. The user is asking how old the 30th president was when he died. I remember from the tool response that the 30th president was Calvin Coolidge. His dates are given as July 4, 1872 to January 5, 1933.\\n\\nFirst, I need to calculate his age at death. To do that, subtract his birth year from his death year. So 1933 minus 1872 equals 61. But wait, since his birthday is July 4th and he died in January, he hadn't had his birthday yet in 1933. That means he was actually 60 years old. Let me double-check that: born in 1872, died in 1933. From July 4, 1872 to July 4, 1933 would be exactly 61 years, but since he died on January 5th, which is before his birthday, it's 60 years and about 6 months. So his age at death was 60.\\n\\nI should present this clearly to the user, making sure to mention both dates so they can see how the calculation works.\\n</think>\\n\\nThe 30th president of the United States was Calvin Coolidge, who lived from July 4, 1872, until January 5, 1933. To determine his age at death:\\n\\n- **Birth year**: 1872  \\n- **Death year**: 1933  \\n- **Calculation**:  \\n  - From July 4, 1872, to January 5, 1933:  \\n    He had not yet reached his 61st birthday (which would have been on July 4, 1933).  \\n\\n**Final answer**: Calvin Coolidge was **60 years old** when he died.\", additional_kwargs={}, response_metadata={'model': 'qwq:32b', 'created_at': '2025-03-09T14:46:12.838305Z', 'done': True, 'done_reason': 'stop', 'total_duration': 34388357833, 'load_duration': 584586708, 'prompt_eval_count': 764, 'prompt_eval_duration': 11478000000, 'eval_count': 412, 'eval_duration': 22134000000, 'message': Message(role='assistant', content=\"<think>\\nOkay, let's see. The user is asking how old the 30th president was when he died. I remember from the tool response that the 30th president was Calvin Coolidge. His dates are given as July 4, 1872 to January 5, 1933.\\n\\nFirst, I need to calculate his age at death. To do that, subtract his birth year from his death year. So 1933 minus 1872 equals 61. But wait, since his birthday is July 4th and he died in January, he hadn't had his birthday yet in 1933. That means he was actually 60 years old. Let me double-check that: born in 1872, died in 1933. From July 4, 1872 to July 4, 1933 would be exactly 61 years, but since he died on January 5th, which is before his birthday, it's 60 years and about 6 months. So his age at death was 60.\\n\\nI should present this clearly to the user, making sure to mention both dates so they can see how the calculation works.\\n</think>\\n\\nThe 30th president of the United States was Calvin Coolidge, who lived from July 4, 1872, until January 5, 1933. To determine his age at death:\\n\\n- **Birth year**: 1872  \\n- **Death year**: 1933  \\n- **Calculation**:  \\n  - From July 4, 1872, to January 5, 1933:  \\n    He had not yet reached his 61st birthday (which would have been on July 4, 1933).  \\n\\n**Final answer**: Calvin Coolidge was **60 years old** when he died.\", images=None, tool_calls=None)}, id='run-0a6bfe1a-82a9-4169-b337-789828aa6ff4-0', usage_metadata={'input_tokens': 764, 'output_tokens': 412, 'total_tokens': 1176})}}\n"
     ]
    }
   ],
   "source": [
    "input = {\n",
    "    \"messages\": [\n",
    "        HumanMessage(\n",
    "            \"\"\"How old was the 30th president of the United States when he died?\"\"\"\n",
    "        )\n",
    "    ]\n",
    "}\n",
    "for c in graph.stream(input):\n",
    "    print(c)"
   ]
  },
  {
   "cell_type": "code",
   "execution_count": null,
   "metadata": {},
   "outputs": [],
   "source": []
  }
 ],
 "metadata": {
  "kernelspec": {
   "display_name": "llm",
   "language": "python",
   "name": "python3"
  },
  "language_info": {
   "codemirror_mode": {
    "name": "ipython",
    "version": 3
   },
   "file_extension": ".py",
   "mimetype": "text/x-python",
   "name": "python",
   "nbconvert_exporter": "python",
   "pygments_lexer": "ipython3",
   "version": "3.12.9"
  }
 },
 "nbformat": 4,
 "nbformat_minor": 2
}
