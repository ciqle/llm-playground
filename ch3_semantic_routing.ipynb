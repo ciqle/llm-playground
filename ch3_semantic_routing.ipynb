{
 "cells": [
  {
   "cell_type": "code",
   "execution_count": 1,
   "metadata": {},
   "outputs": [],
   "source": [
    "from langchain.utils.math import cosine_similarity\n",
    "from langchain_core.output_parsers import StrOutputParser\n",
    "from langchain_core.prompts import PromptTemplate\n",
    "from langchain_core.runnables import chain"
   ]
  },
  {
   "cell_type": "code",
   "execution_count": 2,
   "metadata": {},
   "outputs": [],
   "source": [
    "from langchain_ollama import ChatOllama, OllamaEmbeddings"
   ]
  },
  {
   "cell_type": "code",
   "execution_count": 3,
   "metadata": {},
   "outputs": [],
   "source": [
    "# 您是一位非常聪明的物理教授。你善于用简明易懂的方式回答物理问题。当你不知道问题的答案时，你会承认自己不知道。\n",
    "physics_template = \"\"\"You are a very smart physics professor. You are great at answering questions about physics in a concise and easy-to-understand manner. When you don't know the answer to a question, you admit that you don't know.\n",
    "\n",
    "Here is a question:\n",
    "{query}\"\"\""
   ]
  },
  {
   "cell_type": "code",
   "execution_count": 4,
   "metadata": {},
   "outputs": [],
   "source": [
    "# 您是一位出色的数学家。你很擅长回答数学问题。你之所以如此出色，是因为你能够将难题分解成各个部分，回答各个部分的问题，然后将它们组合起来回答更广泛的问题。\n",
    "math_template = \"\"\"You are a very good mathematician. You are great at answering math questions. You are so good because you are able to break down hard problems into their component parts, answer the component parts, and then put them together to answer the broader question.\n",
    "\n",
    "Here is a question:\n",
    "{query}\"\"\""
   ]
  },
  {
   "cell_type": "code",
   "execution_count": 5,
   "metadata": {},
   "outputs": [],
   "source": [
    "embeddings = OllamaEmbeddings(\n",
    "    base_url=\"http://localhost:11434\",\n",
    "    model=\"nomic-embed-text\"\n",
    ")\n",
    "prompt_templates = [physics_template, math_template]\n",
    "prompt_embeddings = embeddings.embed_documents(prompt_templates)"
   ]
  },
  {
   "cell_type": "code",
   "execution_count": 6,
   "metadata": {},
   "outputs": [
    {
     "data": {
      "text/plain": [
       "2"
      ]
     },
     "execution_count": 6,
     "metadata": {},
     "output_type": "execute_result"
    }
   ],
   "source": [
    "len(prompt_embeddings)"
   ]
  },
  {
   "cell_type": "code",
   "execution_count": 7,
   "metadata": {},
   "outputs": [],
   "source": [
    "# Route question to prompt\n",
    "@chain\n",
    "def prompt_router(query):\n",
    "    # Embed question\n",
    "    query_embedding = embeddings.embed_query(query)\n",
    "    # Compute similarity\n",
    "    # first and second are for physics and math respectively\n",
    "    similarities = cosine_similarity([query_embedding], prompt_embeddings)\n",
    "    print(similarities)\n",
    "    similarity = similarities[0]\n",
    "    # Pick the prompt most similar to the input question\n",
    "    most_similar = prompt_templates[similarity.argmax()]\n",
    "    return PromptTemplate.from_template(most_similar)"
   ]
  },
  {
   "cell_type": "code",
   "execution_count": 8,
   "metadata": {},
   "outputs": [],
   "source": [
    "llm = ChatOllama(base_url=\"http://localhost:11434\", model=\"qwen2.5:32b\", temperature=0)\n",
    "\n",
    "semantic_router = prompt_router | llm | StrOutputParser()"
   ]
  },
  {
   "cell_type": "code",
   "execution_count": null,
   "metadata": {},
   "outputs": [
    {
     "name": "stdout",
     "output_type": "stream",
     "text": [
      "[[0.40115071 0.36440887]]\n",
      "A black hole is an extremely dense region of space where gravity pulls so much that even light cannot escape from it. This intense gravitational field is created when a massive star collapses in on itself at the end of its life cycle, forming what we call a singularity—a point with infinite density and zero volume.\n",
      "\n",
      "Black holes are invisible to direct observation because no light can escape them, but their presence can be inferred by observing their effects on nearby matter. For example, as gas and dust fall into a black hole, they heat up and emit X-rays that can be detected by telescopes. Black holes come in different sizes, from stellar black holes (which are about 20 to 100 times more massive than our Sun) to supermassive black holes found at the centers of most galaxies, which can have masses billions of times greater than the Sun.\n"
     ]
    }
   ],
   "source": [
    "print(semantic_router.invoke(\"What's a black hole\"))"
   ]
  },
  {
   "cell_type": "code",
   "execution_count": 10,
   "metadata": {},
   "outputs": [
    {
     "name": "stdout",
     "output_type": "stream",
     "text": [
      "[[0.45155714 0.35444386]]\n",
      "The speed of light in a vacuum is approximately \\(299,792,458\\) meters per second (m/s). This value is often rounded to about \\(3 \\times 10^8\\) m/s for simpler calculations. It's important to note that the term \"velocity\" typically implies both speed and direction; however, when discussing the speed of light without a specified direction, we generally refer to it as its speed.\n"
     ]
    }
   ],
   "source": [
    "print(semantic_router.invoke(\"What's the velocity of light?\"))"
   ]
  },
  {
   "cell_type": "code",
   "execution_count": 11,
   "metadata": {},
   "outputs": [
    {
     "name": "stdout",
     "output_type": "stream",
     "text": [
      "[[0.48621521 0.44135824]]\n",
      "Newton's Third Law of Motion states that for every action, there is an equal and opposite reaction. This means if object A exerts a force on object B, then object B will exert an equal but oppositely directed force back onto object A.\n",
      "\n",
      "To put it simply: whenever one object pushes or pulls another, the second object pushes or pulls back just as hard in the opposite direction. This law explains why rockets can launch into space (the rocket pushes down on the exhaust gases, and they push up on the rocket) and why you move forward when you walk (your foot pushes backward against the ground, and the ground pushes your foot forward).\n"
     ]
    }
   ],
   "source": [
    "print(semantic_router.invoke(\"Why's Newton's third law of motion?\"))"
   ]
  },
  {
   "cell_type": "code",
   "execution_count": null,
   "metadata": {},
   "outputs": [],
   "source": []
  }
 ],
 "metadata": {
  "kernelspec": {
   "display_name": "llm",
   "language": "python",
   "name": "python3"
  },
  "language_info": {
   "codemirror_mode": {
    "name": "ipython",
    "version": 3
   },
   "file_extension": ".py",
   "mimetype": "text/x-python",
   "name": "python",
   "nbconvert_exporter": "python",
   "pygments_lexer": "ipython3",
   "version": "3.12.9"
  }
 },
 "nbformat": 4,
 "nbformat_minor": 2
}
