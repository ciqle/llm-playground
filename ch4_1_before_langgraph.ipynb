{
 "cells": [
  {
   "cell_type": "code",
   "execution_count": null,
   "metadata": {},
   "outputs": [],
   "source": [
    "from langchain_core.prompts import ChatPromptTemplate\n",
    "from langchain_ollama import ChatOllama"
   ]
  },
  {
   "cell_type": "code",
   "execution_count": 2,
   "metadata": {},
   "outputs": [
    {
     "data": {
      "text/plain": [
       "AIMessage(content='I translated \"I love programming\" into French, which is \"J\\'adore programmer.\"', additional_kwargs={}, response_metadata={'model': 'qwen2.5:32b', 'created_at': '2025-03-05T15:54:42.596444Z', 'done': True, 'done_reason': 'stop', 'total_duration': 9066023000, 'load_duration': 554441292, 'prompt_eval_count': 63, 'prompt_eval_duration': 7397000000, 'eval_count': 20, 'eval_duration': 946000000, 'message': Message(role='assistant', content='', images=None, tool_calls=None)}, id='run-6fdbbfd0-bcef-4f77-b6e4-b3f600d81ada-0', usage_metadata={'input_tokens': 63, 'output_tokens': 20, 'total_tokens': 83})"
      ]
     },
     "execution_count": 2,
     "metadata": {},
     "output_type": "execute_result"
    }
   ],
   "source": [
    "prompt = ChatPromptTemplate.from_messages(\n",
    "    [\n",
    "        (\n",
    "            \"system\",\n",
    "            \"\"\"You are a helpful assistant. Answer all questions to the best of your ability.\"\"\",\n",
    "        ),\n",
    "        (\"placeholder\", \"{messages}\"),\n",
    "    ]\n",
    ")\n",
    "\n",
    "model = ChatOllama(\n",
    "    base_url=\"http://localhost:11434\", model=\"qwen2.5:32b\"\n",
    ")\n",
    "\n",
    "chain = prompt | model\n",
    "\n",
    "chain.invoke(\n",
    "    {\n",
    "        \"messages\": [\n",
    "            (\n",
    "                \"human\",\n",
    "                \"\"\"Translate this sentence from English to French: I love programming.\"\"\",\n",
    "            ),\n",
    "            (\"ai\", \"J'adore programmer.\"),\n",
    "            (\"human\", \"What did you just say?\"),\n",
    "        ],\n",
    "    }\n",
    ")"
   ]
  },
  {
   "cell_type": "code",
   "execution_count": null,
   "metadata": {},
   "outputs": [],
   "source": []
  }
 ],
 "metadata": {
  "kernelspec": {
   "display_name": "llm",
   "language": "python",
   "name": "python3"
  },
  "language_info": {
   "codemirror_mode": {
    "name": "ipython",
    "version": 3
   },
   "file_extension": ".py",
   "mimetype": "text/x-python",
   "name": "python",
   "nbconvert_exporter": "python",
   "pygments_lexer": "ipython3",
   "version": "3.12.9"
  }
 },
 "nbformat": 4,
 "nbformat_minor": 2
}
